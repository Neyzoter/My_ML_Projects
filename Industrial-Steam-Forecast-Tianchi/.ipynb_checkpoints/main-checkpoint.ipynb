{
 "cells": [
  {
   "cell_type": "markdown",
   "metadata": {},
   "source": [
    "# 工业蒸汽量预测\n",
    "[地址](https://tianchi.aliyun.com/competition/entrance/231693/introduction?spm=5176.12281949.1003.6.7e924c2aJOF3IE)"
   ]
  },
  {
   "cell_type": "code",
   "execution_count": 11,
   "metadata": {
    "collapsed": true
   },
   "outputs": [],
   "source": [
    "import pandas as pd\n",
    "import numpy as np\n",
    "from sklearn.preprocessing import StandardScaler\n",
    "from xgboost import XGBRegressor\n",
    "from sklearn.model_selection import train_test_split"
   ]
  },
  {
   "cell_type": "code",
   "execution_count": 12,
   "metadata": {},
   "outputs": [
    {
     "name": "stdout",
     "output_type": "stream",
     "text": [
      "train data V0-V37\n",
      "       V0     V1     V2     V3     V4     V5     V6     V7     V8     V9  \\\n",
      "0  0.566  0.016 -0.143  0.407  0.452 -0.901 -1.812 -2.360 -0.436 -2.114   \n",
      "1  0.968  0.437  0.066  0.566  0.194 -0.893 -1.566 -2.360  0.332 -2.114   \n",
      "2  1.013  0.568  0.235  0.370  0.112 -0.797 -1.367 -2.360  0.396 -2.114   \n",
      "3  0.733  0.368  0.283  0.165  0.599 -0.679 -1.200 -2.086  0.403 -2.114   \n",
      "4  0.684  0.638  0.260  0.209  0.337 -0.454 -1.073 -2.086  0.314 -2.114   \n",
      "\n",
      "   ...      V27    V28    V29    V30    V31    V32    V33    V34    V35    V36  \n",
      "0  ...    0.168 -0.450  0.136  0.109 -0.615  0.327 -4.627 -4.789 -5.101 -2.608  \n",
      "1  ...    0.338  0.671 -0.128  0.124  0.032  0.600 -0.843  0.160  0.364 -0.335  \n",
      "2  ...    0.326  1.287 -0.009  0.361  0.277 -0.116 -0.843  0.160  0.364  0.765  \n",
      "3  ...    0.277  1.298  0.015  0.417  0.279  0.603 -0.843 -0.065  0.364  0.333  \n",
      "4  ...    0.332  1.289  0.183  1.078  0.328  0.418 -0.843 -0.215  0.364 -0.280  \n",
      "\n",
      "[5 rows x 37 columns]\n",
      "train data target\n",
      " 0    0.175\n",
      "1    0.676\n",
      "2    0.633\n",
      "3    0.206\n",
      "4    0.384\n",
      "Name: target, dtype: float64\n",
      "test data\n",
      "       V0     V1     V2     V3     V4     V5     V6     V7     V8     V9  \\\n",
      "0  0.368  0.380 -0.225 -0.049  0.379  0.092  0.550  0.551  0.244  0.904   \n",
      "1  0.148  0.489 -0.247 -0.049  0.122 -0.201  0.487  0.493 -0.127  0.904   \n",
      "2 -0.166 -0.062 -0.311  0.046 -0.055  0.063  0.485  0.493 -0.227  0.904   \n",
      "3  0.102  0.294 -0.259  0.051 -0.183  0.148  0.474  0.504  0.010  0.904   \n",
      "4  0.300  0.428  0.208  0.051 -0.033  0.116  0.408  0.497  0.155  0.904   \n",
      "\n",
      "   ...      V28    V29    V30    V31    V32    V33    V34    V35    V36    V37  \n",
      "0  ...   -0.449  0.047  0.057 -0.042  0.847  0.534 -0.009 -0.190 -0.567  0.388  \n",
      "1  ...   -0.443  0.047  0.560  0.176  0.551  0.046 -0.220  0.008 -0.294  0.104  \n",
      "2  ...   -0.458 -0.398  0.101  0.199  0.634  0.017 -0.234  0.008  0.373  0.569  \n",
      "3  ...   -0.456 -0.398  1.007  0.137  1.042 -0.040 -0.290  0.008 -0.666  0.391  \n",
      "4  ...   -0.458 -0.776  0.291  0.370  0.181 -0.040 -0.290  0.008 -0.140 -0.497  \n",
      "\n",
      "[5 rows x 38 columns]\n"
     ]
    }
   ],
   "source": [
    "train_data = pd.read_csv(\"./datasets/zhengqi_train.txt\", sep = \"\\t\", index_col=False)\n",
    "test_data = pd.read_csv(\"./datasets/zhengqi_test.txt\", sep = \"\\t\", index_col=False)\n",
    "train_data_v = train_data.iloc[:,0:37]\n",
    "train_data_target = train_data.iloc[:,38]\n",
    "test_data_v = test_data\n",
    "print(\"train data V0-V37\\n\",train_data_v.head(5))\n",
    "print(\"train data target\\n\",train_data_target.head(5))\n",
    "print(\"test data\\n\",test_data_v.head(5))\n"
   ]
  },
  {
   "cell_type": "code",
   "execution_count": 15,
   "metadata": {},
   "outputs": [
    {
     "data": {
      "text/plain": [
       "array([[ 0.47738591, -0.04256456, -0.47495376, ..., -4.7808126 ,\n",
       "        -5.37670389, -2.7184609 ],\n",
       "       [ 0.91063611,  0.40466472, -0.24555515, ...,  0.15280865,\n",
       "         0.16868133, -0.37671677],\n",
       "       [ 0.95913427,  0.54382633, -0.06006059, ...,  0.15280865,\n",
       "         0.16868133,  0.75655139],\n",
       "       ..., \n",
       "       [-0.55724143, -0.82548137, -0.8503333 , ...,  0.48975833,\n",
       "        -0.55480625,  0.94817674],\n",
       "       [-0.36863749, -0.35913065, -0.69557156, ...,  0.6014103 ,\n",
       "        -0.43405587, -0.34168849],\n",
       "       [ 0.26399402,  0.34411349, -0.56495704, ..., -0.01566619,\n",
       "        -0.39346751, -0.61573333]])"
      ]
     },
     "execution_count": 15,
     "metadata": {},
     "output_type": "execute_result"
    }
   ],
   "source": [
    "#标准化，返回值为标准化后的数据\n",
    "train_data_v_scaled = StandardScaler().fit_transform(train_data_v)\n",
    "train_data_v_scaled"
   ]
  },
  {
   "cell_type": "code",
   "execution_count": 16,
   "metadata": {},
   "outputs": [],
   "source": [
    "# 得到训练和验证集合\n",
    "train_X, test_X, train_y, test_y = train_test_split(train_data_v_scaled, train_data_target, test_size=0.25)"
   ]
  },
  {
   "cell_type": "code",
   "execution_count": null,
   "metadata": {
    "collapsed": true
   },
   "outputs": [],
   "source": []
  },
  {
   "cell_type": "code",
   "execution_count": 21,
   "metadata": {},
   "outputs": [
    {
     "data": {
      "text/plain": [
       "XGBRegressor(base_score=0.5, booster='gbtree', colsample_bylevel=1,\n",
       "       colsample_bytree=1, gamma=0, learning_rate=0.1, max_delta_step=0,\n",
       "       max_depth=3, min_child_weight=1, missing=None, n_estimators=100,\n",
       "       n_jobs=1, nthread=None, objective='reg:linear', random_state=0,\n",
       "       reg_alpha=0, reg_lambda=1, scale_pos_weight=1, seed=None,\n",
       "       silent=True, subsample=1)"
      ]
     },
     "execution_count": 21,
     "metadata": {},
     "output_type": "execute_result"
    }
   ],
   "source": [
    "# xgboost模型\n",
    "xgb_model = XGBRegressor()\n",
    "# Add silent=True to avoid printing out updates with each cycle\n",
    "xgb_model.fit(train_data_v_scaled, train_data_target, verbose=False)"
   ]
  },
  {
   "cell_type": "code",
   "execution_count": 22,
   "metadata": {},
   "outputs": [
    {
     "name": "stdout",
     "output_type": "stream",
     "text": [
      "Mean Absolute Error : 0.213139173063\n"
     ]
    }
   ],
   "source": [
    "# 评价\n",
    "predictions = xgb_model.predict(test_X)\n",
    "from sklearn.metrics import mean_absolute_error\n",
    "print(\"Mean Absolute Error : \" + str(mean_absolute_error(predictions, test_y)))"
   ]
  },
  {
   "cell_type": "code",
   "execution_count": 23,
   "metadata": {},
   "outputs": [
    {
     "ename": "ValueError",
     "evalue": "feature_names mismatch: ['f0', 'f1', 'f2', 'f3', 'f4', 'f5', 'f6', 'f7', 'f8', 'f9', 'f10', 'f11', 'f12', 'f13', 'f14', 'f15', 'f16', 'f17', 'f18', 'f19', 'f20', 'f21', 'f22', 'f23', 'f24', 'f25', 'f26', 'f27', 'f28', 'f29', 'f30', 'f31', 'f32', 'f33', 'f34', 'f35', 'f36'] ['V0', 'V1', 'V2', 'V3', 'V4', 'V5', 'V6', 'V7', 'V8', 'V9', 'V10', 'V11', 'V12', 'V13', 'V14', 'V15', 'V16', 'V17', 'V18', 'V19', 'V20', 'V21', 'V22', 'V23', 'V24', 'V25', 'V26', 'V27', 'V28', 'V29', 'V30', 'V31', 'V32', 'V33', 'V34', 'V35', 'V36', 'V37']\nexpected f22, f13, f30, f27, f8, f31, f7, f0, f24, f29, f34, f28, f15, f4, f35, f36, f11, f12, f16, f25, f10, f33, f18, f14, f26, f3, f21, f9, f32, f1, f6, f17, f5, f2, f20, f23, f19 in input data\ntraining data did not have the following fields: V27, V18, V9, V15, V28, V1, V20, V3, V22, V13, V25, V7, V16, V26, V19, V32, V30, V37, V33, V5, V36, V0, V12, V10, V17, V11, V4, V2, V34, V6, V14, V23, V8, V35, V29, V24, V21, V31",
     "output_type": "error",
     "traceback": [
      "\u001b[1;31m---------------------------------------------------------------------------\u001b[0m",
      "\u001b[1;31mValueError\u001b[0m                                Traceback (most recent call last)",
      "\u001b[1;32m<ipython-input-23-b993bd3aa0c6>\u001b[0m in \u001b[0;36m<module>\u001b[1;34m()\u001b[0m\n\u001b[0;32m      1\u001b[0m \u001b[1;31m# make predictions\u001b[0m\u001b[1;33m\u001b[0m\u001b[1;33m\u001b[0m\u001b[0m\n\u001b[1;32m----> 2\u001b[1;33m \u001b[0mpredictions\u001b[0m \u001b[1;33m=\u001b[0m \u001b[0mmy_model\u001b[0m\u001b[1;33m.\u001b[0m\u001b[0mpredict\u001b[0m\u001b[1;33m(\u001b[0m\u001b[0mtest_data_v\u001b[0m\u001b[1;33m)\u001b[0m\u001b[1;33m\u001b[0m\u001b[0m\n\u001b[0m",
      "\u001b[1;32mF:\\Program\\Anaconda3\\lib\\site-packages\\xgboost\\sklearn.py\u001b[0m in \u001b[0;36mpredict\u001b[1;34m(self, data, output_margin, ntree_limit, validate_features)\u001b[0m\n\u001b[0;32m    431\u001b[0m                                           \u001b[0moutput_margin\u001b[0m\u001b[1;33m=\u001b[0m\u001b[0moutput_margin\u001b[0m\u001b[1;33m,\u001b[0m\u001b[1;33m\u001b[0m\u001b[0m\n\u001b[0;32m    432\u001b[0m                                           \u001b[0mntree_limit\u001b[0m\u001b[1;33m=\u001b[0m\u001b[0mntree_limit\u001b[0m\u001b[1;33m,\u001b[0m\u001b[1;33m\u001b[0m\u001b[0m\n\u001b[1;32m--> 433\u001b[1;33m                                           validate_features=validate_features)\n\u001b[0m\u001b[0;32m    434\u001b[0m \u001b[1;33m\u001b[0m\u001b[0m\n\u001b[0;32m    435\u001b[0m     \u001b[1;32mdef\u001b[0m \u001b[0mapply\u001b[0m\u001b[1;33m(\u001b[0m\u001b[0mself\u001b[0m\u001b[1;33m,\u001b[0m \u001b[0mX\u001b[0m\u001b[1;33m,\u001b[0m \u001b[0mntree_limit\u001b[0m\u001b[1;33m=\u001b[0m\u001b[1;36m0\u001b[0m\u001b[1;33m)\u001b[0m\u001b[1;33m:\u001b[0m\u001b[1;33m\u001b[0m\u001b[0m\n",
      "\u001b[1;32mF:\\Program\\Anaconda3\\lib\\site-packages\\xgboost\\core.py\u001b[0m in \u001b[0;36mpredict\u001b[1;34m(self, data, output_margin, ntree_limit, pred_leaf, pred_contribs, approx_contribs, pred_interactions, validate_features)\u001b[0m\n\u001b[0;32m   1216\u001b[0m \u001b[1;33m\u001b[0m\u001b[0m\n\u001b[0;32m   1217\u001b[0m         \u001b[1;32mif\u001b[0m \u001b[0mvalidate_features\u001b[0m\u001b[1;33m:\u001b[0m\u001b[1;33m\u001b[0m\u001b[0m\n\u001b[1;32m-> 1218\u001b[1;33m             \u001b[0mself\u001b[0m\u001b[1;33m.\u001b[0m\u001b[0m_validate_features\u001b[0m\u001b[1;33m(\u001b[0m\u001b[0mdata\u001b[0m\u001b[1;33m)\u001b[0m\u001b[1;33m\u001b[0m\u001b[0m\n\u001b[0m\u001b[0;32m   1219\u001b[0m \u001b[1;33m\u001b[0m\u001b[0m\n\u001b[0;32m   1220\u001b[0m         \u001b[0mlength\u001b[0m \u001b[1;33m=\u001b[0m \u001b[0mc_bst_ulong\u001b[0m\u001b[1;33m(\u001b[0m\u001b[1;33m)\u001b[0m\u001b[1;33m\u001b[0m\u001b[0m\n",
      "\u001b[1;32mF:\\Program\\Anaconda3\\lib\\site-packages\\xgboost\\core.py\u001b[0m in \u001b[0;36m_validate_features\u001b[1;34m(self, data)\u001b[0m\n\u001b[0;32m   1539\u001b[0m \u001b[1;33m\u001b[0m\u001b[0m\n\u001b[0;32m   1540\u001b[0m                 raise ValueError(msg.format(self.feature_names,\n\u001b[1;32m-> 1541\u001b[1;33m                                             data.feature_names))\n\u001b[0m\u001b[0;32m   1542\u001b[0m \u001b[1;33m\u001b[0m\u001b[0m\n\u001b[0;32m   1543\u001b[0m     \u001b[1;32mdef\u001b[0m \u001b[0mget_split_value_histogram\u001b[0m\u001b[1;33m(\u001b[0m\u001b[0mself\u001b[0m\u001b[1;33m,\u001b[0m \u001b[0mfeature\u001b[0m\u001b[1;33m,\u001b[0m \u001b[0mfmap\u001b[0m\u001b[1;33m=\u001b[0m\u001b[1;34m''\u001b[0m\u001b[1;33m,\u001b[0m \u001b[0mbins\u001b[0m\u001b[1;33m=\u001b[0m\u001b[1;32mNone\u001b[0m\u001b[1;33m,\u001b[0m \u001b[0mas_pandas\u001b[0m\u001b[1;33m=\u001b[0m\u001b[1;32mTrue\u001b[0m\u001b[1;33m)\u001b[0m\u001b[1;33m:\u001b[0m\u001b[1;33m\u001b[0m\u001b[0m\n",
      "\u001b[1;31mValueError\u001b[0m: feature_names mismatch: ['f0', 'f1', 'f2', 'f3', 'f4', 'f5', 'f6', 'f7', 'f8', 'f9', 'f10', 'f11', 'f12', 'f13', 'f14', 'f15', 'f16', 'f17', 'f18', 'f19', 'f20', 'f21', 'f22', 'f23', 'f24', 'f25', 'f26', 'f27', 'f28', 'f29', 'f30', 'f31', 'f32', 'f33', 'f34', 'f35', 'f36'] ['V0', 'V1', 'V2', 'V3', 'V4', 'V5', 'V6', 'V7', 'V8', 'V9', 'V10', 'V11', 'V12', 'V13', 'V14', 'V15', 'V16', 'V17', 'V18', 'V19', 'V20', 'V21', 'V22', 'V23', 'V24', 'V25', 'V26', 'V27', 'V28', 'V29', 'V30', 'V31', 'V32', 'V33', 'V34', 'V35', 'V36', 'V37']\nexpected f22, f13, f30, f27, f8, f31, f7, f0, f24, f29, f34, f28, f15, f4, f35, f36, f11, f12, f16, f25, f10, f33, f18, f14, f26, f3, f21, f9, f32, f1, f6, f17, f5, f2, f20, f23, f19 in input data\ntraining data did not have the following fields: V27, V18, V9, V15, V28, V1, V20, V3, V22, V13, V25, V7, V16, V26, V19, V32, V30, V37, V33, V5, V36, V0, V12, V10, V17, V11, V4, V2, V34, V6, V14, V23, V8, V35, V29, V24, V21, V31"
     ]
    }
   ],
   "source": [
    "# make predictions\n",
    "predictions = xgb_model.predict(test_data_v)"
   ]
  },
  {
   "cell_type": "code",
   "execution_count": null,
   "metadata": {
    "collapsed": true
   },
   "outputs": [],
   "source": []
  }
 ],
 "metadata": {
  "kernelspec": {
   "display_name": "Python 3",
   "language": "python",
   "name": "python3"
  },
  "language_info": {
   "codemirror_mode": {
    "name": "ipython",
    "version": 3
   },
   "file_extension": ".py",
   "mimetype": "text/x-python",
   "name": "python",
   "nbconvert_exporter": "python",
   "pygments_lexer": "ipython3",
   "version": "3.6.1"
  }
 },
 "nbformat": 4,
 "nbformat_minor": 2
}
