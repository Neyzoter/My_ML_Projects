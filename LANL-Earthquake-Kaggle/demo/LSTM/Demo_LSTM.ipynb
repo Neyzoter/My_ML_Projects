{
 "cells": [
  {
   "cell_type": "code",
   "execution_count": 1,
   "metadata": {},
   "outputs": [
    {
     "name": "stderr",
     "output_type": "stream",
     "text": [
      "Using TensorFlow backend.\n"
     ]
    }
   ],
   "source": [
    "# Importing dependencies numpy and keras\n",
    "\n",
    "import numpy\n",
    "\n",
    "from keras.models import Sequential\n",
    "\n",
    "from keras.layers import Dense\n",
    "\n",
    "from keras.layers import Dropout\n",
    "\n",
    "from keras.layers import LSTM\n",
    "\n",
    "from keras.utils import np_utils"
   ]
  },
  {
   "cell_type": "code",
   "execution_count": 2,
   "metadata": {
    "collapsed": true
   },
   "outputs": [],
   "source": [
    "# load text\n",
    "\n",
    "filename = \"./context.txt\"\n",
    "\n",
    "\n",
    "text = (open(filename).read()).lower()\n",
    "\n",
    "\n",
    "# mapping characters with integers\n",
    "\n",
    "unique_chars = sorted(list(set(text)))\n",
    "\n",
    "\n",
    "char_to_int = {}\n",
    "\n",
    "int_to_char = {}\n",
    "\n",
    "\n",
    "for i, c in enumerate (unique_chars):\n",
    "\n",
    "    char_to_int.update({c: i})\n",
    "\n",
    "    int_to_char.update({i: c})"
   ]
  },
  {
   "cell_type": "code",
   "execution_count": 3,
   "metadata": {
    "collapsed": true
   },
   "outputs": [],
   "source": [
    "# preparing input and output dataset\n",
    "\n",
    "X = []\n",
    "\n",
    "Y = []\n",
    "\n",
    "\n",
    "for i in range(0, len(text) - 50, 1):\n",
    "\n",
    "    sequence = text[i:i + 50]\n",
    "\n",
    "    label =text[i + 50]\n",
    "\n",
    "    X.append([char_to_int[char] for char in sequence])\n",
    "\n",
    "    Y.append(char_to_int[label])"
   ]
  },
  {
   "cell_type": "code",
   "execution_count": 4,
   "metadata": {
    "collapsed": true
   },
   "outputs": [],
   "source": [
    "# reshaping, normalizing and one hot encoding\n",
    "\n",
    "X_modified = numpy.reshape(X, (len(X), 50, 1))\n",
    "\n",
    "X_modified = X_modified / float(len(unique_chars))\n",
    "\n",
    "Y_modified = np_utils.to_categorical(Y)"
   ]
  },
  {
   "cell_type": "code",
   "execution_count": 5,
   "metadata": {},
   "outputs": [],
   "source": [
    "# defining the LSTM model\n",
    "\n",
    "model = Sequential()\n",
    "\n",
    "model.add(LSTM(300, input_shape=(X_modified.shape[1], X_modified.shape[2]), return_sequences=True))\n",
    "\n",
    "model.add(Dropout(0.2))\n",
    "\n",
    "model.add(LSTM(300))\n",
    "\n",
    "model.add(Dropout(0.2))\n",
    "\n",
    "model.add(Dense(Y_modified.shape[1], activation='softmax'))\n",
    "\n",
    "\n",
    "model.compile(loss='categorical_crossentropy', optimizer='adam')"
   ]
  },
  {
   "cell_type": "code",
   "execution_count": 6,
   "metadata": {},
   "outputs": [
    {
     "name": "stdout",
     "output_type": "stream",
     "text": [
      "Epoch 1/1\n",
      "100270/100270 [==============================] - 1058s 11ms/step - loss: 2.7433\n",
      " \n"
     ]
    }
   ],
   "source": [
    "# fitting the model\n",
    "\n",
    "model.fit(X_modified, Y_modified, epochs=1, batch_size=30)\n",
    "\n",
    "\n",
    "# picking a random seed\n",
    "\n",
    "start_index = numpy.random.randint(0, len(X)-1)\n",
    "\n",
    "new_string = X[start_index]\n",
    "\n",
    "\n",
    "# generating characters\n",
    "\n",
    "for i in range(50):\n",
    "\n",
    "    x = numpy.reshape(new_string, (1, len(new_string), 1))\n",
    "\n",
    "    x = x / float(len(unique_chars))\n",
    "\n",
    "\n",
    "#predicting\n",
    "\n",
    "pred_index = numpy.argmax(model.predict(x, verbose=0))\n",
    "\n",
    "char_out = int_to_char[pred_index]\n",
    "\n",
    "seq_in = [int_to_char[value] for value in new_string]\n",
    "\n",
    "print(char_out)\n",
    "\n",
    "\n",
    "new_string.append(pred_index)\n",
    "\n",
    "new_string = new_string[1:len(new_string)]"
   ]
  },
  {
   "cell_type": "code",
   "execution_count": null,
   "metadata": {
    "collapsed": true
   },
   "outputs": [],
   "source": []
  }
 ],
 "metadata": {
  "kernelspec": {
   "display_name": "Python 3",
   "language": "python",
   "name": "python3"
  },
  "language_info": {
   "codemirror_mode": {
    "name": "ipython",
    "version": 3
   },
   "file_extension": ".py",
   "mimetype": "text/x-python",
   "name": "python",
   "nbconvert_exporter": "python",
   "pygments_lexer": "ipython3",
   "version": "3.6.8"
  }
 },
 "nbformat": 4,
 "nbformat_minor": 2
}
