{
 "cells": [
  {
   "cell_type": "markdown",
   "metadata": {},
   "source": [
    "# <a id='0'>目录</a>\n",
    "\n",
    "- <a href='#1'>介绍</a>  \n",
    "- <a href='#2'>前期准备</a>  \n",
    "- <a href='#3'>数据初探</a>  \n",
    "- <a href='#4'>特征工程</a>  "
   ]
  },
  {
   "cell_type": "markdown",
   "metadata": {},
   "source": [
    "# <a id='1'>介绍</a>  \n",
    "基于XGBOOST的LANL地震预测。"
   ]
  },
  {
   "cell_type": "markdown",
   "metadata": {},
   "source": [
    "# <a id='2'>准备</a>\n",
    "## 加载库"
   ]
  },
  {
   "cell_type": "code",
   "execution_count": 4,
   "metadata": {
    "collapsed": true
   },
   "outputs": [],
   "source": [
    "# garbage collection\n",
    "import gc\n",
    "import os\n",
    "import time\n",
    "import warnings\n",
    "import numpy as np\n",
    "import pandas as pd\n",
    "import seaborn as sns\n",
    "from xgboost import XGBRegressor\n",
    "from tqdm import tqdm\n",
    "from scipy import stats\n",
    "from scipy.signal import hann\n",
    "import matplotlib.pyplot as plt\n",
    "from scipy.signal import hilbert\n",
    "from scipy.signal import convolve\n",
    "from sklearn.metrics import mean_squared_error\n",
    "from sklearn.metrics import mean_absolute_error\n",
    "from sklearn.preprocessing import StandardScaler\n",
    "from sklearn.linear_model import LinearRegression\n",
    "warnings.filterwarnings(\"ignore\")"
   ]
  },
  {
   "cell_type": "markdown",
   "metadata": {},
   "source": [
    "## 下载数据\n",
    "获取数据的路径"
   ]
  },
  {
   "cell_type": "code",
   "execution_count": 7,
   "metadata": {},
   "outputs": [
    {
     "data": {
      "text/plain": [
       "['train.csv']"
      ]
     },
     "execution_count": 7,
     "metadata": {},
     "output_type": "execute_result"
    }
   ],
   "source": [
    "IS_LOCAL = False\n",
    "if(IS_LOCAL):\n",
    "    PATH=\"../input/LANL/\"\n",
    "else:\n",
    "    PATH=\"F:/Softcodes/Python/LANL_Earthquake/datasets/trainsets/\" # windows\n",
    "#     PATH = \"/media/songchaochao/Projects/Softcodes/Python/LANL_Earthquake/datasets/trainsets/\" # ubuntu\n",
    "os.listdir(PATH) # 输出该目录下的文件"
   ]
  },
  {
   "cell_type": "markdown",
   "metadata": {},
   "source": [
    "下载数据"
   ]
  },
  {
   "cell_type": "code",
   "execution_count": 17,
   "metadata": {},
   "outputs": [
    {
     "name": "stdout",
     "output_type": "stream",
     "text": [
      "Wall time: 30.2 s\n"
     ]
    }
   ],
   "source": [
    "%%time\n",
    "train_df = pd.read_csv(PATH+'train.csv', dtype={'acoustic_data': np.int16, 'time_to_failure': np.float64},nrows = 15000*10000)"
   ]
  },
  {
   "cell_type": "markdown",
   "metadata": {},
   "source": [
    "输出数据的行数和列数"
   ]
  },
  {
   "cell_type": "code",
   "execution_count": 18,
   "metadata": {},
   "outputs": [
    {
     "name": "stdout",
     "output_type": "stream",
     "text": [
      "Train: rows:150000000 cols:2\n"
     ]
    }
   ],
   "source": [
    "print(\"Train: rows:{} cols:{}\".format(train_df.shape[0], train_df.shape[1])) "
   ]
  },
  {
   "cell_type": "code",
   "execution_count": 19,
   "metadata": {},
   "outputs": [
    {
     "data": {
      "text/html": [
       "<div>\n",
       "<style scoped>\n",
       "    .dataframe tbody tr th:only-of-type {\n",
       "        vertical-align: middle;\n",
       "    }\n",
       "\n",
       "    .dataframe tbody tr th {\n",
       "        vertical-align: top;\n",
       "    }\n",
       "\n",
       "    .dataframe thead th {\n",
       "        text-align: right;\n",
       "    }\n",
       "</style>\n",
       "<table border=\"1\" class=\"dataframe\">\n",
       "  <thead>\n",
       "    <tr style=\"text-align: right;\">\n",
       "      <th></th>\n",
       "      <th>acoustic_data</th>\n",
       "      <th>time_to_failure</th>\n",
       "    </tr>\n",
       "  </thead>\n",
       "  <tbody>\n",
       "    <tr>\n",
       "      <th>0</th>\n",
       "      <td>12</td>\n",
       "      <td>1.4690999832</td>\n",
       "    </tr>\n",
       "    <tr>\n",
       "      <th>1</th>\n",
       "      <td>6</td>\n",
       "      <td>1.4690999821</td>\n",
       "    </tr>\n",
       "    <tr>\n",
       "      <th>2</th>\n",
       "      <td>8</td>\n",
       "      <td>1.4690999810</td>\n",
       "    </tr>\n",
       "    <tr>\n",
       "      <th>3</th>\n",
       "      <td>5</td>\n",
       "      <td>1.4690999799</td>\n",
       "    </tr>\n",
       "    <tr>\n",
       "      <th>4</th>\n",
       "      <td>8</td>\n",
       "      <td>1.4690999788</td>\n",
       "    </tr>\n",
       "    <tr>\n",
       "      <th>5</th>\n",
       "      <td>8</td>\n",
       "      <td>1.4690999777</td>\n",
       "    </tr>\n",
       "    <tr>\n",
       "      <th>6</th>\n",
       "      <td>9</td>\n",
       "      <td>1.4690999766</td>\n",
       "    </tr>\n",
       "    <tr>\n",
       "      <th>7</th>\n",
       "      <td>7</td>\n",
       "      <td>1.4690999755</td>\n",
       "    </tr>\n",
       "    <tr>\n",
       "      <th>8</th>\n",
       "      <td>-5</td>\n",
       "      <td>1.4690999744</td>\n",
       "    </tr>\n",
       "    <tr>\n",
       "      <th>9</th>\n",
       "      <td>3</td>\n",
       "      <td>1.4690999733</td>\n",
       "    </tr>\n",
       "  </tbody>\n",
       "</table>\n",
       "</div>"
      ],
      "text/plain": [
       "   acoustic_data  time_to_failure\n",
       "0             12     1.4690999832\n",
       "1              6     1.4690999821\n",
       "2              8     1.4690999810\n",
       "3              5     1.4690999799\n",
       "4              8     1.4690999788\n",
       "5              8     1.4690999777\n",
       "6              9     1.4690999766\n",
       "7              7     1.4690999755\n",
       "8             -5     1.4690999744\n",
       "9              3     1.4690999733"
      ]
     },
     "execution_count": 19,
     "metadata": {},
     "output_type": "execute_result"
    }
   ],
   "source": [
    "pd.options.display.precision = 15  # Set number's precison\n",
    "train_df.head(10)  # Output head 10."
   ]
  },
  {
   "cell_type": "markdown",
   "metadata": {},
   "source": [
    "# <a id='3'>数据初探</a>"
   ]
  },
  {
   "cell_type": "code",
   "execution_count": 20,
   "metadata": {},
   "outputs": [
    {
     "data": {
      "image/png": "[encoded data removed]",
      "text/plain": [
       "<matplotlib.figure.Figure at 0x2162fef9198>"
      ]
     },
     "metadata": {},
     "output_type": "display_data"
    }
   ],
   "source": [
    "train_ad_sample_df = train_df['acoustic_data'].values[::100]  # 相隔100个取点\n",
    "train_ttf_sample_df = train_df['time_to_failure'].values[::100]  # 相隔100个取点\n",
    "\n",
    "def plot_acc_ttf_data(train_ad_sample_df, train_ttf_sample_df, title=\"Acoustic data and time to failure: 1% sampled data\"):\n",
    "    fig, ax1 = plt.subplots(figsize=(12, 8))\n",
    "    plt.title(title)\n",
    "    plt.plot(train_ad_sample_df, color='r')\n",
    "    ax1.set_ylabel('acoustic data', color='r')\n",
    "    plt.legend(['acoustic data'], loc=(0.01, 0.95)) # 设置标签的位置\n",
    "    ax2 = ax1.twinx() # 复制X轴坐标\n",
    "    plt.plot(train_ttf_sample_df, color='b')\n",
    "    ax2.set_ylabel('time to failure', color='b')\n",
    "    plt.legend(['time to failure'], loc=(0.01, 0.9))\n",
    "    plt.grid(True)\n",
    "    plt.show()\n",
    "\n",
    "plot_acc_ttf_data(train_ad_sample_df, train_ttf_sample_df)\n",
    "del train_ad_sample_df\n",
    "del train_ttf_sample_df"
   ]
  },
  {
   "cell_type": "code",
   "execution_count": 21,
   "metadata": {},
   "outputs": [
    {
     "data": {
      "image/png": "[encoded data removed]",
      "text/plain": [
       "<matplotlib.figure.Figure at 0x2162f37e1d0>"
      ]
     },
     "metadata": {},
     "output_type": "display_data"
    }
   ],
   "source": [
    "train_ad_sample_df = train_df['acoustic_data'].values[:6291455]\n",
    "train_ttf_sample_df = train_df['time_to_failure'].values[:6291455]\n",
    "plot_acc_ttf_data(train_ad_sample_df, train_ttf_sample_df, title=\"Acoustic data and time to failure: 1% of data\")\n",
    "del train_ad_sample_df\n",
    "del train_ttf_sample_df"
   ]
  },
  {
   "cell_type": "markdown",
   "metadata": {},
   "source": [
    "# <a id='4'>特征工程</a>\n",
    "从测试集看到，每个cvs文件包含15000行数据，所以特征提取也以15000行为单位。"
   ]
  },
  {
   "cell_type": "code",
   "execution_count": 24,
   "metadata": {},
   "outputs": [
    {
     "name": "stdout",
     "output_type": "stream",
     "text": [
      "Number of segments:  1000\n"
     ]
    }
   ],
   "source": [
    "rows = 150000  # 每组数据集合的数据个数\n",
    "segments = int(np.floor(train_df.shape[0] / rows)) # 所有数据行数 / 每一个segment的个数\n",
    "print(\"Number of segments: \", segments)"
   ]
  },
  {
   "cell_type": "markdown",
   "metadata": {},
   "source": [
    "定义两个用于提取特征的函数，分别用于挖掘趋势（线性回归）和STA/LTA数据。"
   ]
  },
  {
   "cell_type": "code",
   "execution_count": 25,
   "metadata": {},
   "outputs": [
    {
     "name": "stdout",
     "output_type": "stream",
     "text": [
      "LR para:[-3.2682998170341496e-06, 5.1292341854609864]\n"
     ]
    }
   ],
   "source": [
    "def add_trend_feature(arr, abs_values=False):\n",
    "    '''\n",
    "    得到线性模型的估计参数，包括横截和斜率\n",
    "    '''\n",
    "    idx = np.array(range(len(arr)))\n",
    "    if abs_values:\n",
    "        arr = np.abs(arr)\n",
    "    lr = LinearRegression()\n",
    "    lr.fit(idx.reshape(-1, 1), arr)  # -1表示，行是由array的另外一个长度来推测出来的\n",
    "    return [lr.coef_[0],lr.intercept_] # 返回线性回归器的估计参数\n",
    "\n",
    "def classic_sta_lta(x, length_sta, length_lta):\n",
    "#     sta = np.cumsum(x ** 2) # x^2\n",
    "    sta = np.cumsum(np.abs(x)) # abs(x)\n",
    "    # 转化为float\n",
    "    sta = np.require(sta, dtype=np.float)\n",
    "    # Copy for LTA\n",
    "    lta = sta.copy()\n",
    "    # Compute the STA and the LTA\n",
    "    sta[length_sta:] = sta[length_sta:] - sta[:-length_sta] # sta的第length_sta个元素后所有元素\n",
    "    sta /= length_sta\n",
    "    lta[length_lta:] = lta[length_lta:] - lta[:-length_lta]\n",
    "    lta /= length_lta\n",
    "    # Pad zeros\n",
    "    sta[:length_lta - 1] = 0\n",
    "    # Avoid division by zero by setting zero values to tiny float\n",
    "    dtiny = np.finfo(0.0).tiny\n",
    "    idx = lta < dtiny\n",
    "    lta[idx] = dtiny\n",
    "    return sta / lta\n",
    "\n",
    "# 使用例子\n",
    "data = train_df.iloc[0:rows]\n",
    "xc = pd.Series(data['acoustic_data'].values)\n",
    "print('LR para:{}'.format(add_trend_feature(xc)))\n",
    "del data\n",
    "del xc"
   ]
  },
  {
   "cell_type": "markdown",
   "metadata": {},
   "source": [
    "特征提取过程"
   ]
  },
  {
   "cell_type": "code",
   "execution_count": null,
   "metadata": {},
   "outputs": [
    {
     "name": "stderr",
     "output_type": "stream",
     "text": [
      " 22%|█████████████████▏                                                             | 217/1000 [02:04<08:14,  1.58it/s]"
     ]
    }
   ],
   "source": [
    "train_X = pd.DataFrame(index=range(segments), dtype=np.float64)\n",
    "train_y = pd.DataFrame(index=range(segments), dtype=np.float64, columns=['time_to_failure'])\n",
    "\n",
    "# # 所有数据，基本没有意义\n",
    "# total_mean = train_df['acoustic_data'].mean()\n",
    "# total_std = train_df['acoustic_data'].std()\n",
    "# total_max = train_df['acoustic_data'].max()\n",
    "# total_min = train_df['acoustic_data'].min()\n",
    "# total_sum = train_df['acoustic_data'].sum()\n",
    "# total_abs_sum = np.abs(train_df['acoustic_data']).sum()\n",
    "\n",
    "# 用于防止分母为0\n",
    "epsilon = 0.01\n",
    "# iterate over all segments\n",
    "for segment in tqdm(range(segments)):\n",
    "    # 提取每个segment的数据，共150000个\n",
    "    seg = train_df.iloc[segment*rows:segment*rows+rows]\n",
    "    xc = pd.Series(seg['acoustic_data'].values)\n",
    "    xc.replace(0,epsilon,inplace = True)  # 用一个epsilon代替0，防止分母出现0\n",
    "    xc_abs = np.abs(xc)# 后面需要多次使用，缓存下来\n",
    "    yc = seg['time_to_failure'].values[-1]  # 最后一个数据的距离地震的时间作为训练样本的时间\n",
    "    \n",
    "    # 1.给train_y和train_X赋值\n",
    "    ## 1.2距离地震的时间\n",
    "    train_y.loc[segment, 'time_to_failure'] = yc\n",
    "    ## 1.3声波信号的均值\n",
    "    train_X.loc[segment, 'mean'] = xc.mean()\n",
    "    ## 1.4声波信号的标准差\n",
    "    train_X.loc[segment, 'std'] = xc.std()\n",
    "    ## 1.5声波信号的最大值\n",
    "    train_X.loc[segment, 'max'] = xc.max()\n",
    "    ## 1.6声波信号的最小值\n",
    "    train_X.loc[segment, 'min'] = xc.min()\n",
    "    ## 1.7声波信号的一阶差分  xc(k)-xc(k-1)的均值\n",
    "    train_X.loc[segment, 'mean_change_abs'] = np.mean(np.diff(xc))\n",
    "    ## 1.8一阶差分/xc(除去最后一个)    np.nonzero返回非零的元素下标\n",
    "#     train_X.loc[segment, 'mean_change_rate'] = np.mean(np.nonzero((np.diff(xc) / xc[:-1]))[0]) #原来是去掉了零元素的下标\n",
    "    \n",
    "    train_X.loc[segment, 'mean_change_rate'] = np.mean(np.diff(xc) / xc[:-1])\n",
    "    ## 1.9xc的绝对值最大值\n",
    "    train_X.loc[segment, 'abs_max'] = xc_abs.max()\n",
    "    ## 1.10xc的绝对值最小值\n",
    "    train_X.loc[segment, 'abs_min'] = xc_abs.min()\n",
    "    ## 1.11前面50000个的数据\n",
    "    ### 1.11.1前面50000个的标准差\n",
    "    train_X.loc[segment, 'std_first_50000'] = xc[:50000].std()\n",
    "    ### 1.11.2后面50000个的标准差\n",
    "    train_X.loc[segment, 'std_last_50000'] = xc[-50000:].std()\n",
    "    ### 1.11.3前面10000个的标准差\n",
    "    train_X.loc[segment, 'std_first_10000'] = xc[:10000].std()\n",
    "    ### 1.11.4后面10000个的标准差\n",
    "    train_X.loc[segment, 'std_last_10000'] = xc[-10000:].std()\n",
    "    ### 1.11.5前面50000个的平均值\n",
    "    train_X.loc[segment, 'avg_first_50000'] = xc[:50000].mean()\n",
    "    ### 1.11.6后面50000个的平均值\n",
    "    train_X.loc[segment, 'avg_last_50000'] = xc[-50000:].mean()\n",
    "    ### 1.11.7前面10000个的平均值\n",
    "    train_X.loc[segment, 'avg_first_10000'] = xc[:10000].mean()\n",
    "    ### 1.11.7后面10000个的平均值\n",
    "    train_X.loc[segment, 'avg_last_10000'] = xc[-10000:].mean()\n",
    "    ### 1.11.8前面50000个的最小值\n",
    "    train_X.loc[segment, 'min_first_50000'] = xc[:50000].min()\n",
    "    ### 1.11.9后面50000个的最小值\n",
    "    train_X.loc[segment, 'min_last_50000'] = xc[-50000:].min()\n",
    "    ### 1.11.10前面10000个的最小值\n",
    "    train_X.loc[segment, 'min_first_10000'] = xc[:10000].min()\n",
    "    ### 1.11.11后面10000个的最小值\n",
    "    train_X.loc[segment, 'min_last_10000'] = xc[-10000:].min()\n",
    "    ### 1.11.12最大值\n",
    "    train_X.loc[segment, 'max_first_50000'] = xc[:50000].max()\n",
    "    ### 1.11.13\n",
    "    train_X.loc[segment, 'max_last_50000'] = xc[-50000:].max()\n",
    "    ### 1.11.14\n",
    "    train_X.loc[segment, 'max_first_10000'] = xc[:10000].max()\n",
    "    ### 1.11.15\n",
    "    train_X.loc[segment, 'max_last_10000'] = xc[-10000:].max()\n",
    "    ## 1.12 max/min的绝对值\n",
    "    train_X.loc[segment, 'max_to_min'] = np.abs(xc.max() / xc.min())  \n",
    "    ## 1.13 峰峰值（原来是xc.max() - np.abs(xc.min())，去绝对值后的峰峰值）\n",
    "    train_X.loc[segment, 'max_to_min_diff'] = xc.max() - xc.min()\n",
    "    ## 1.14 比较大的数个数\n",
    "    train_X.loc[segment, 'count_big'] = len(xc[xc_abs > 500])\n",
    "    ## 1.15 xc数据的和\n",
    "    train_X.loc[segment, 'sum'] = xc.sum()\n",
    "    ## 1.16 对前后50000和10000运用一阶差分\n",
    "    ### 1.16.1 去除掉0\n",
    "#     train_X.loc[segment, 'mean_change_rate_first_50000'] = np.mean(np.nonzero((np.diff(xc[:50000]) / xc[:50000][:-1]))[0])\n",
    "#     train_X.loc[segment, 'mean_change_rate_last_50000'] = np.mean(np.nonzero((np.diff(xc[-50000:]) / xc[-50000:][:-1]))[0])\n",
    "#     train_X.loc[segment, 'mean_change_rate_first_10000'] = np.mean(np.nonzero((np.diff(xc[:10000]) / xc[:10000][:-1]))[0])\n",
    "#     train_X.loc[segment, 'mean_change_rate_last_10000'] = np.mean(np.nonzero((np.diff(xc[-10000:]) / xc[-10000:][:-1]))[0])\n",
    "    ### 1.16.2 不去除0\n",
    "    train_X.loc[segment, 'mean_change_rate_first_50000'] = np.mean((np.diff(xc[:50000]) / xc[:50000][:-1]))\n",
    "    train_X.loc[segment, 'mean_change_rate_last_50000'] = np.mean((np.diff(xc[-50000:]) / xc[-50000:][:-1]))\n",
    "    train_X.loc[segment, 'mean_change_rate_first_10000'] = np.mean((np.diff(xc[:10000]) / xc[:10000][:-1]))\n",
    "    train_X.loc[segment, 'mean_change_rate_last_10000'] = np.mean((np.diff(xc[-10000:]) / xc[-10000:][:-1]))\n",
    "    \n",
    "    ## 1.17 q-quantile：q位数，至少有0.95的数据小于等于返回的q位数，(1-0.95)的数大于等于\n",
    "    train_X.loc[segment, 'q95'] = np.percentile(xc, 95)\n",
    "    train_X.loc[segment, 'q99'] = np.percentile(xc, 99)\n",
    "    train_X.loc[segment, 'q05'] = np.percentile(xc, 5)\n",
    "    train_X.loc[segment, 'q01'] = np.percentile(xc, 1)\n",
    "    \n",
    "    train_X.loc[segment, 'abs_q95'] = np.percentile(np.abs(xc), 95)\n",
    "    train_X.loc[segment, 'abs_q99'] = np.percentile(np.abs(xc), 99)\n",
    "    train_X.loc[segment, 'abs_q05'] = np.percentile(np.abs(xc), 5)\n",
    "    train_X.loc[segment, 'abs_q01'] = np.percentile(np.abs(xc), 1)\n",
    "    \n",
    "    ## 1.18 用线性模型拟合后的趋势是一个  coef * x + intercept\n",
    "    train_X.loc[segment, 'trend_coef'] = (add_trend_feature(xc))[0]  # 线性模型的coef\n",
    "    train_X.loc[segment, 'trend_intercept'] = (add_trend_feature(xc))[1] # 线性模型的intercept\n",
    "    train_X.loc[segment, 'abs_trend_coef'] = (add_trend_feature(xc, abs_values=True))[0]\n",
    "    train_X.loc[segment, 'abs_trend_intercept'] = (add_trend_feature(xc, abs_values=True))[1]\n",
    "    \n",
    "    ## 1.19 绝对均值、绝对标准差\n",
    "    train_X.loc[segment, 'abs_mean'] = xc_abs.mean()\n",
    "    train_X.loc[segment, 'abs_std'] = xc_abs.std()\n",
    "    \n",
    "    ## 1.20 平均绝对偏差\n",
    "    train_X.loc[segment, 'mad'] = xc.mad()\n",
    "    ## 1.21 峰度kurtosis\n",
    "    train_X.loc[segment, 'kurt'] = xc.kurtosis()\n",
    "    ## 1.22 偏度Skewness\n",
    "    train_X.loc[segment, 'skew'] = xc.skew()\n",
    "    ## 1.23 中位数median\n",
    "    train_X.loc[segment, 'med'] = xc.median()\n",
    "    ## 1.24 希尔伯特变换，转化为二位复平面\n",
    "    ## 对复平面数据a+bj进行abs，则得到一维数据sqrt(a*a+b*b)\n",
    "    train_X.loc[segment, 'Hilbert_mean'] = np.abs(hilbert(xc)).mean()\n",
    "    ## 1.25 数据和hann窗口进行same卷积运算\n",
    "    train_X.loc[segment, 'Hann_window_mean'] = (convolve(xc, hann(150), mode='same') / sum(hann(150))).mean()\n",
    "    ## 1.26 STA和LTA数据\n",
    "    train_X.loc[segment, 'classic_sta_lta1_mean'] = classic_sta_lta(xc, 500, 10000).mean() # STA长度500和LTA长度10000\n",
    "    train_X.loc[segment, 'classic_sta_lta2_mean'] = classic_sta_lta(xc, 5000, 100000).mean()\n",
    "    train_X.loc[segment, 'classic_sta_lta3_mean'] = classic_sta_lta(xc, 3333, 6666).mean()\n",
    "    train_X.loc[segment, 'classic_sta_lta4_mean'] = classic_sta_lta(xc, 10000, 25000).mean()\n",
    "    ## 1.27 根据滚动窗口计算,排除掉NA/null的情况\n",
    "    train_X.loc[segment, 'Moving_average_400_mean'] = xc.rolling(window=400).mean().mean(skipna=True)\n",
    "    train_X.loc[segment, 'Moving_average_700_mean'] = xc.rolling(window=700).mean().mean(skipna=True)\n",
    "    train_X.loc[segment, 'Moving_average_1500_mean'] = xc.rolling(window=1500).mean().mean(skipna=True)\n",
    "    train_X.loc[segment, 'Moving_average_3000_mean'] = xc.rolling(window=3000).mean().mean(skipna=True)\n",
    "    train_X.loc[segment, 'Moving_average_6000_mean'] = xc.rolling(window=6000).mean().mean(skipna=True)\n",
    "    ## 1.28 根据跨度span指定衰减alpha = 2/(span+1),span >= 1\n",
    "    ewma = pd.Series.ewm  # 指数加权函数\n",
    "    train_X.loc[segment, 'exp_Moving_average_300_mean'] = (ewma(xc, span=300).mean()).mean(skipna=True) \n",
    "    train_X.loc[segment, 'exp_Moving_average_3000_mean'] = ewma(xc, span=3000).mean().mean(skipna=True)\n",
    "    train_X.loc[segment, 'exp_Moving_average_30000_mean'] = ewma(xc, span=30000).mean().mean(skipna=True)\n",
    "    \n",
    "    ## 1.29 滚动窗口的均值和标准差结合，置信区间\n",
    "    no_of_std = 2  # 置信区间取2倍的方差\n",
    "    train_X.loc[segment, 'MA_400MA_std_mean'] = xc.rolling(window=400).std().mean()\n",
    "    train_X.loc[segment,'MA_400MA_BB_high_mean'] = (train_X.loc[segment, 'Moving_average_400_mean'] + no_of_std * train_X.loc[segment, 'MA_400MA_std_mean']).mean()\n",
    "    train_X.loc[segment,'MA_400MA_BB_low_mean'] = (train_X.loc[segment, 'Moving_average_400_mean'] - no_of_std * train_X.loc[segment, 'MA_400MA_std_mean']).mean()\n",
    "    train_X.loc[segment, 'MA_700MA_std_mean'] = xc.rolling(window=700).std().mean()\n",
    "    train_X.loc[segment,'MA_700MA_BB_high_mean'] = (train_X.loc[segment, 'Moving_average_700_mean'] + no_of_std * train_X.loc[segment, 'MA_700MA_std_mean']).mean()\n",
    "    train_X.loc[segment,'MA_700MA_BB_low_mean'] = (train_X.loc[segment, 'Moving_average_700_mean'] - no_of_std * train_X.loc[segment, 'MA_700MA_std_mean']).mean()\n",
    "    train_X.loc[segment, 'MA_1500MA_std_mean'] = xc.rolling(window=1500).std().mean()\n",
    "    train_X.loc[segment,'MA_1500MA_BB_high_mean'] = (train_X.loc[segment, 'Moving_average_1500_mean'] + no_of_std * train_X.loc[segment, 'MA_1500MA_std_mean']).mean()\n",
    "    train_X.loc[segment,'MA_1500MA_BB_low_mean'] = (train_X.loc[segment, 'Moving_average_1500_mean'] - no_of_std * train_X.loc[segment, 'MA_1500MA_std_mean']).mean()\n",
    "    train_X.loc[segment, 'MA_3000MA_std_mean'] = xc.rolling(window=3000).std().mean()\n",
    "    train_X.loc[segment,'MA_3000MA_BB_high_mean'] = (train_X.loc[segment, 'Moving_average_3000_mean'] + no_of_std * train_X.loc[segment, 'MA_3000MA_std_mean']).mean()\n",
    "    train_X.loc[segment,'MA_3000MA_BB_low_mean'] = (train_X.loc[segment, 'Moving_average_3000_mean'] - no_of_std * train_X.loc[segment, 'MA_3000MA_std_mean']).mean()    \n",
    "    train_X.loc[segment, 'MA_6000MA_std_mean'] = xc.rolling(window=6000).std().mean()\n",
    "    train_X.loc[segment,'MA_6000MA_BB_high_mean'] = (train_X.loc[segment, 'Moving_average_6000_mean'] + no_of_std * train_X.loc[segment, 'MA_6000MA_std_mean']).mean()\n",
    "    train_X.loc[segment,'MA_6000MA_BB_low_mean'] = (train_X.loc[segment, 'Moving_average_6000_mean'] - no_of_std * train_X.loc[segment, 'MA_6000MA_std_mean']).mean()    \n",
    "    ## 1.30 位数相减\n",
    "    train_X.loc[segment, 'iqr'] = np.subtract(*np.percentile(xc, [75, 25]))\n",
    "    ## 1.31 大/小位数\n",
    "    train_X.loc[segment, 'q999'] = np.percentile(xc,99.9)\n",
    "    train_X.loc[segment, 'q001'] = np.percentile(xc,0.1)\n",
    "    ## 1.32 分布去掉头尾后的均值\n",
    "    train_X.loc[segment, 'ave10'] = stats.trim_mean(xc, 0.1)\n",
    "    ## 1.33 滚动窗口为10,100,1000的一些数据\n",
    "    for windows in [10, 100, 1000]:\n",
    "        x_roll_std = xc.rolling(windows).std().dropna().values\n",
    "        x_roll_mean = xc.rolling(windows).mean().dropna().values\n",
    "        x_roll_std  = pd.Series(x_roll_std)\n",
    "        x_roll_std.replace(0,epsilon,True)\n",
    "        x_roll_mean  = pd.Series(x_roll_mean)\n",
    "        x_roll_std.replace(0,epsilon,True)\n",
    "        train_X.loc[segment, 'ave_roll_std_' + str(windows)] = x_roll_std.mean()\n",
    "        train_X.loc[segment, 'std_roll_std_' + str(windows)] = x_roll_std.std()\n",
    "        train_X.loc[segment, 'max_roll_std_' + str(windows)] = x_roll_std.max()\n",
    "        train_X.loc[segment, 'min_roll_std_' + str(windows)] = x_roll_std.min()\n",
    "        train_X.loc[segment, 'q01_roll_std_' + str(windows)] = np.percentile(x_roll_std, 1)\n",
    "        train_X.loc[segment, 'q05_roll_std_' + str(windows)] = np.percentile(x_roll_std, 5)\n",
    "        train_X.loc[segment, 'q95_roll_std_' + str(windows)] = np.percentile(x_roll_std, 95)\n",
    "        train_X.loc[segment, 'q99_roll_std_' + str(windows)] = np.percentile(x_roll_std, 99)\n",
    "        train_X.loc[segment, 'av_change_abs_roll_std_' + str(windows)] = np.mean(np.diff(x_roll_std))\n",
    "        train_X.loc[segment, 'av_change_rate_roll_std_' + str(windows)] = np.mean(np.diff(x_roll_std) / x_roll_std[:-1])\n",
    "        train_X.loc[segment, 'abs_max_roll_std_' + str(windows)] = np.abs(x_roll_std).max()\n",
    "        train_X.loc[segment, 'abs_min_roll_std_' + str(windows)] = np.abs(x_roll_std).min()  ## 加入的\n",
    "        \n",
    "        train_X.loc[segment, 'ave_roll_mean_' + str(windows)] = x_roll_mean.mean()\n",
    "        train_X.loc[segment, 'std_roll_mean_' + str(windows)] = x_roll_mean.std()\n",
    "        train_X.loc[segment, 'max_roll_mean_' + str(windows)] = x_roll_mean.max()\n",
    "        train_X.loc[segment, 'min_roll_mean_' + str(windows)] = x_roll_mean.min()\n",
    "        train_X.loc[segment, 'q01_roll_mean_' + str(windows)] = np.percentile(x_roll_mean, 1)\n",
    "        train_X.loc[segment, 'q05_roll_mean_' + str(windows)] = np.percentile(x_roll_mean, 5)\n",
    "        train_X.loc[segment, 'q95_roll_mean_' + str(windows)] = np.percentile(x_roll_mean, 95)\n",
    "        train_X.loc[segment, 'q99_roll_mean_' + str(windows)] = np.percentile(x_roll_mean, 99)\n",
    "        train_X.loc[segment, 'av_change_abs_roll_mean_' + str(windows)] = np.mean(np.diff(x_roll_mean))\n",
    "        train_X.loc[segment, 'av_change_rate_roll_mean_' + str(windows)] = np.mean(np.diff(x_roll_mean) / x_roll_mean[:-1])\n",
    "        train_X.loc[segment, 'abs_max_roll_mean_' + str(windows)] = np.abs(x_roll_mean).max()\n",
    "        train_X.loc[segment, 'abs_min_roll_mean_' + str(windows)] = np.abs(x_roll_mean).min()## 加入的"
   ]
  },
  {
   "cell_type": "markdown",
   "metadata": {},
   "source": [
    "查看前面10条数据"
   ]
  },
  {
   "cell_type": "code",
   "execution_count": null,
   "metadata": {
    "collapsed": true
   },
   "outputs": [],
   "source": [
    "train_X.head(10)"
   ]
  },
  {
   "cell_type": "markdown",
   "metadata": {},
   "source": [
    "数据标准化"
   ]
  },
  {
   "cell_type": "code",
   "execution_count": null,
   "metadata": {
    "collapsed": true
   },
   "outputs": [],
   "source": [
    "scaler = StandardScaler()  # 标准化\n",
    "## 用很大的数来代替inf\n",
    "train_X.replace([-np.inf],-1000000,inplace=True)\n",
    "train_X.replace([np.inf],1000000,inplace=True)\n",
    "scaler.fit(train_X)  \n",
    "scaled_train_X = pd.DataFrame(scaler.transform(train_X), columns=train_X.columns)"
   ]
  }
 ],
 "metadata": {
  "kernelspec": {
   "display_name": "Python 3",
   "language": "python",
   "name": "python3"
  },
  "language_info": {
   "codemirror_mode": {
    "name": "ipython",
    "version": 3
   },
   "file_extension": ".py",
   "mimetype": "text/x-python",
   "name": "python",
   "nbconvert_exporter": "python",
   "pygments_lexer": "ipython3",
   "version": "3.6.8"
  }
 },
 "nbformat": 4,
 "nbformat_minor": 2
}
