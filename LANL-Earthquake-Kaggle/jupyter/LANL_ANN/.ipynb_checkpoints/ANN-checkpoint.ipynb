{
 "cells": [
  {
   "cell_type": "markdown",
   "metadata": {},
   "source": [
    "# <a id='0'>目录</a>\n",
    "\n",
    "- <a href='#1'>介绍</a>\n",
    "- <a href='#2'>加载库</a>  \n",
    "- <a href='#3'>特征工程</a> "
   ]
  },
  {
   "cell_type": "markdown",
   "metadata": {},
   "source": [
    "# <a id='1'>介绍</a>  \n",
    "神经网络预测"
   ]
  },
  {
   "cell_type": "markdown",
   "metadata": {},
   "source": [
    "# <a id='2'>加载库和数据</a>  "
   ]
  },
  {
   "cell_type": "code",
   "execution_count": 1,
   "metadata": {
    "collapsed": true
   },
   "outputs": [],
   "source": [
    "import gc\n",
    "import os\n",
    "import time\n",
    "import warnings\n",
    "import numpy as np\n",
    "import pandas as pd\n",
    "import seaborn as sns\n",
    "import tensorflow as tf\n",
    "from tqdm import tqdm\n",
    "warnings.filterwarnings(\"ignore\")"
   ]
  },
  {
   "cell_type": "code",
   "execution_count": 2,
   "metadata": {},
   "outputs": [
    {
     "data": {
      "text/plain": [
       "['train.csv']"
      ]
     },
     "execution_count": 2,
     "metadata": {},
     "output_type": "execute_result"
    }
   ],
   "source": [
    "PATH=\"../../datasets/trainsets/\"\n",
    "os.listdir(PATH) # 输出该目录下的文件"
   ]
  },
  {
   "cell_type": "code",
   "execution_count": 3,
   "metadata": {},
   "outputs": [
    {
     "name": "stdout",
     "output_type": "stream",
     "text": [
      "Train: rows:150000000 cols:2\n",
      "Wall time: 27.2 s\n"
     ]
    }
   ],
   "source": [
    "%%time\n",
    "train_df = pd.read_csv(PATH+'train.csv', dtype={'acoustic_data': np.int16, 'time_to_failure': np.float64},nrows = 150000*1000)\n",
    "# train_df = pd.read_csv(PATH+'train.csv', dtype={'acoustic_data': np.int16, 'time_to_failure': np.float64})\n",
    "print(\"Train: rows:{} cols:{}\".format(train_df.shape[0], train_df.shape[1])) "
   ]
  },
  {
   "cell_type": "code",
   "execution_count": 4,
   "metadata": {},
   "outputs": [
    {
     "data": {
      "text/html": [
       "<div>\n",
       "<style scoped>\n",
       "    .dataframe tbody tr th:only-of-type {\n",
       "        vertical-align: middle;\n",
       "    }\n",
       "\n",
       "    .dataframe tbody tr th {\n",
       "        vertical-align: top;\n",
       "    }\n",
       "\n",
       "    .dataframe thead th {\n",
       "        text-align: right;\n",
       "    }\n",
       "</style>\n",
       "<table border=\"1\" class=\"dataframe\">\n",
       "  <thead>\n",
       "    <tr style=\"text-align: right;\">\n",
       "      <th></th>\n",
       "      <th>acoustic_data</th>\n",
       "      <th>time_to_failure</th>\n",
       "    </tr>\n",
       "  </thead>\n",
       "  <tbody>\n",
       "    <tr>\n",
       "      <th>0</th>\n",
       "      <td>12</td>\n",
       "      <td>1.4690999832</td>\n",
       "    </tr>\n",
       "    <tr>\n",
       "      <th>1</th>\n",
       "      <td>6</td>\n",
       "      <td>1.4690999821</td>\n",
       "    </tr>\n",
       "    <tr>\n",
       "      <th>2</th>\n",
       "      <td>8</td>\n",
       "      <td>1.4690999810</td>\n",
       "    </tr>\n",
       "    <tr>\n",
       "      <th>3</th>\n",
       "      <td>5</td>\n",
       "      <td>1.4690999799</td>\n",
       "    </tr>\n",
       "    <tr>\n",
       "      <th>4</th>\n",
       "      <td>8</td>\n",
       "      <td>1.4690999788</td>\n",
       "    </tr>\n",
       "    <tr>\n",
       "      <th>5</th>\n",
       "      <td>8</td>\n",
       "      <td>1.4690999777</td>\n",
       "    </tr>\n",
       "    <tr>\n",
       "      <th>6</th>\n",
       "      <td>9</td>\n",
       "      <td>1.4690999766</td>\n",
       "    </tr>\n",
       "    <tr>\n",
       "      <th>7</th>\n",
       "      <td>7</td>\n",
       "      <td>1.4690999755</td>\n",
       "    </tr>\n",
       "    <tr>\n",
       "      <th>8</th>\n",
       "      <td>-5</td>\n",
       "      <td>1.4690999744</td>\n",
       "    </tr>\n",
       "    <tr>\n",
       "      <th>9</th>\n",
       "      <td>3</td>\n",
       "      <td>1.4690999733</td>\n",
       "    </tr>\n",
       "  </tbody>\n",
       "</table>\n",
       "</div>"
      ],
      "text/plain": [
       "   acoustic_data  time_to_failure\n",
       "0             12     1.4690999832\n",
       "1              6     1.4690999821\n",
       "2              8     1.4690999810\n",
       "3              5     1.4690999799\n",
       "4              8     1.4690999788\n",
       "5              8     1.4690999777\n",
       "6              9     1.4690999766\n",
       "7              7     1.4690999755\n",
       "8             -5     1.4690999744\n",
       "9              3     1.4690999733"
      ]
     },
     "execution_count": 4,
     "metadata": {},
     "output_type": "execute_result"
    }
   ],
   "source": [
    "pd.options.display.precision = 15  # Set number's precison\n",
    "pd.options.display.max_rows = 50 \n",
    "train_df.head(10)  # Output head 10."
   ]
  },
  {
   "cell_type": "markdown",
   "metadata": {},
   "source": [
    "# <a id='3'>特征工程</a>  \n",
    "从测试集看到，每个cvs文件包含15000行数据，所以特征提取也以15000行为单位。"
   ]
  },
  {
   "cell_type": "code",
   "execution_count": 5,
   "metadata": {},
   "outputs": [
    {
     "name": "stdout",
     "output_type": "stream",
     "text": [
      "Number of segments:  1000\n"
     ]
    }
   ],
   "source": [
    "rows = 150000  # 每组数据集合的数据个数\n",
    "segments = int(np.floor(train_df.shape[0] / rows)) # 所有数据行数 / 每一个segment的个数\n",
    "print(\"Number of segments: \", segments)"
   ]
  },
  {
   "cell_type": "code",
   "execution_count": 6,
   "metadata": {},
   "outputs": [
    {
     "name": "stdout",
     "output_type": "stream",
     "text": [
      "lenX = (1000, 150000)\n",
      "lenY = (1000, 1)\n",
      "\n"
     ]
    }
   ],
   "source": [
    "# train_X = pd.DataFrame(index=range(segments), dtype=np.float64)\n",
    "# train_y = pd.DataFrame(index=range(segments), dtype=np.float64, columns=['time_to_failure'])\n",
    "train_X = np.zeros((segments,rows),dtype=np.float32)\n",
    "train_y = np.zeros([segments,1],dtype=np.float32)\n",
    "print(\"lenX = {}\\r\\nlenY = {}\\r\\n\".format(np.shape(train_X),np.shape(train_y)))"
   ]
  },
  {
   "cell_type": "code",
   "execution_count": 7,
   "metadata": {},
   "outputs": [
    {
     "name": "stderr",
     "output_type": "stream",
     "text": [
      "100%|████████████████████████████████████████████████████████████████████████████| 1000/1000 [00:00<00:00, 1603.85it/s]\n"
     ]
    }
   ],
   "source": [
    "\n",
    "for segment in tqdm(range(segments)):\n",
    "    # 提取每个segment的数据，共150000个\n",
    "    seg = train_df.iloc[segment*rows:segment*rows+rows]\n",
    "    xc = pd.Series(seg['acoustic_data'].values)\n",
    "    yc = seg['time_to_failure'].values[-1]  # 最后一个数据的距离地震的时间作为训练样本的时间\n",
    "    train_y[segment] = yc\n",
    "    train_X[segment] = xc\n",
    "    \n"
   ]
  },
  {
   "cell_type": "code",
   "execution_count": 8,
   "metadata": {},
   "outputs": [
    {
     "name": "stdout",
     "output_type": "stream",
     "text": [
      "(1000, 150000)\n",
      "float32\n"
     ]
    }
   ],
   "source": [
    "print(np.shape(train_X))\n",
    "print(train_X.dtype)\n",
    "# print(train_y.head(10))"
   ]
  },
  {
   "cell_type": "code",
   "execution_count": null,
   "metadata": {
    "collapsed": true
   },
   "outputs": [],
   "source": []
  },
  {
   "cell_type": "markdown",
   "metadata": {},
   "source": [
    "# <a id='4'>模型</a>  "
   ]
  },
  {
   "cell_type": "markdown",
   "metadata": {},
   "source": [
    "超参数设置"
   ]
  },
  {
   "cell_type": "code",
   "execution_count": 9,
   "metadata": {
    "collapsed": true
   },
   "outputs": [],
   "source": [
    "lr = 0.001\n",
    "training_iters =100000\n",
    "batch_size = 8"
   ]
  },
  {
   "cell_type": "markdown",
   "metadata": {},
   "source": [
    "神经网络参数"
   ]
  },
  {
   "cell_type": "code",
   "execution_count": 10,
   "metadata": {
    "collapsed": true
   },
   "outputs": [],
   "source": [
    "n_inputs = rows # 输入层\n",
    "n_steps = 1\n",
    "n_hidden_units = 128 # 隐藏层的神经元个数\n",
    "n_classes = 1 # 输出的数量"
   ]
  },
  {
   "cell_type": "markdown",
   "metadata": {},
   "source": [
    "要输入数据及权重"
   ]
  },
  {
   "cell_type": "code",
   "execution_count": 11,
   "metadata": {
    "collapsed": true
   },
   "outputs": [],
   "source": [
    "x = tf.placeholder(tf.float32,shape = [None,n_steps,n_inputs])\n",
    "y = tf.placeholder(tf.float32,shape = [None,n_classes])"
   ]
  },
  {
   "cell_type": "code",
   "execution_count": 12,
   "metadata": {
    "collapsed": true
   },
   "outputs": [],
   "source": [
    "weights = {\n",
    "    'in':tf.Variable(tf.random_normal([n_inputs , n_hidden_units])),\n",
    "    'out':tf.Variable(tf.random_normal([n_hidden_units , n_classes]))\n",
    "}"
   ]
  },
  {
   "cell_type": "code",
   "execution_count": 13,
   "metadata": {
    "collapsed": true
   },
   "outputs": [],
   "source": [
    "biases = {\n",
    "    'in':tf.Variable(tf.constant(0.1,shape = [n_hidden_units,])),\n",
    "    'out':tf.Variable(tf.constant(0.1,shape = [n_classes,]))\n",
    "}"
   ]
  },
  {
   "cell_type": "markdown",
   "metadata": {},
   "source": [
    "RNN模型"
   ]
  },
  {
   "cell_type": "code",
   "execution_count": 45,
   "metadata": {
    "collapsed": true
   },
   "outputs": [],
   "source": [
    "def RNN(X,weights,biases):\n",
    "    print(np.shape(X))\n",
    "    X = tf.reshape(X,[-1,n_inputs])\n",
    "    print(np.shape(X))\n",
    "    X_in = tf.matmul(X,weights['in'])+biases['in']\n",
    "    X_in = tf.expand_dims(X_in, axis=1)#     X_in = tf.reshape(X_in,[-1,n_hidden_units])\n",
    "    print(np.shape(X))\n",
    "    # LSTM\n",
    "    lstm_cell = tf.contrib.rnn.BasicLSTMCell(n_hidden_units,forget_bias = 1.0,\n",
    "                                            state_is_tuple=True)\n",
    "    # 初始化为0，lstm单元由两部分组成,(c_state,h_state)\n",
    "    init_state = lstm_cell.zero_state(batch_size,dtype = tf.float32)\n",
    "    \n",
    "    # dynamic_rnn接收张量(batch,steps,inputs)\n",
    "    outputs,final_state = tf.nn.dynamic_rnn(lstm_cell,X_in,initial_state = init_state,time_major = False)\n",
    "    \n",
    "    X_out = tf.matmul(final_state[1],weights['out'])+biases['out']\n",
    "    print(np.shape(X_out))\n",
    "    return X_out\n",
    "    "
   ]
  },
  {
   "cell_type": "markdown",
   "metadata": {},
   "source": [
    "定义损失函数和优化器"
   ]
  },
  {
   "cell_type": "code",
   "execution_count": 15,
   "metadata": {},
   "outputs": [
    {
     "name": "stdout",
     "output_type": "stream",
     "text": [
      "(?, 1, 150000)\n",
      "(?, 150000)\n",
      "(?, 150000)\n",
      "(2, 1)\n"
     ]
    }
   ],
   "source": [
    "pred = RNN(x,weights,biases)\n",
    "# cost = tf.metrics.mean_absolute_error(labels = y,predictions = pred)\n",
    "cost = tf.reduce_mean(tf.nn.softmax_cross_entropy_with_logits(logits = pred,labels = y))\n",
    "train_op = tf.train.AdamOptimizer(lr).minimize(cost)\n"
   ]
  },
  {
   "cell_type": "markdown",
   "metadata": {
    "collapsed": true
   },
   "source": [
    "定义模型预测结果及准确率计算方法"
   ]
  },
  {
   "cell_type": "code",
   "execution_count": 16,
   "metadata": {
    "collapsed": true
   },
   "outputs": [],
   "source": [
    "correct_pred = tf.equal(tf.argmax(pred,1),tf.argmax(y,1))\n",
    "accuracy = tf.reduce_mean(tf.cast(correct_pred,tf.float32))"
   ]
  },
  {
   "cell_type": "code",
   "execution_count": 17,
   "metadata": {
    "collapsed": true
   },
   "outputs": [],
   "source": [
    "def get_Batch(data, label, batch_size):\n",
    "    print(data.shape, label.shape)\n",
    "    input_queue = tf.train.slice_input_producer([data, label], num_epochs=1, shuffle=True, capacity=32 ) \n",
    "    x_batch, y_batch = tf.train.batch(input_queue, batch_size=batch_size, num_threads=1, capacity=32, allow_smaller_final_batch=False)\n",
    "    return x_batch, y_batch"
   ]
  },
  {
   "cell_type": "markdown",
   "metadata": {},
   "source": [
    "# <a id='5'>训练</a>  "
   ]
  },
  {
   "cell_type": "code",
   "execution_count": 18,
   "metadata": {},
   "outputs": [
    {
     "name": "stdout",
     "output_type": "stream",
     "text": [
      "(1000, 150000) (1000, 1)\n",
      "Epoch 0, Training accuracy 1\n",
      "Epoch 1, Training accuracy 1\n",
      "Epoch 2, Training accuracy 1\n",
      "Epoch 3, Training accuracy 1\n",
      "Epoch 4, Training accuracy 1\n",
      "Epoch 5, Training accuracy 1\n",
      "Epoch 6, Training accuracy 1\n",
      "Epoch 7, Training accuracy 1\n",
      "Epoch 8, Training accuracy 1\n",
      "Epoch 9, Training accuracy 1\n",
      "Epoch 10, Training accuracy 1\n",
      "Epoch 11, Training accuracy 1\n",
      "Epoch 12, Training accuracy 1\n",
      "Epoch 13, Training accuracy 1\n",
      "Epoch 14, Training accuracy 1\n",
      "Epoch 15, Training accuracy 1\n",
      "Epoch 16, Training accuracy 1\n",
      "Epoch 17, Training accuracy 1\n",
      "Epoch 18, Training accuracy 1\n",
      "Epoch 19, Training accuracy 1\n",
      "Epoch 20, Training accuracy 1\n",
      "Epoch 21, Training accuracy 1\n",
      "Epoch 22, Training accuracy 1\n",
      "Epoch 23, Training accuracy 1\n",
      "Epoch 24, Training accuracy 1\n",
      "Epoch 25, Training accuracy 1\n",
      "Epoch 26, Training accuracy 1\n",
      "Epoch 27, Training accuracy 1\n",
      "Epoch 28, Training accuracy 1\n",
      "Epoch 29, Training accuracy 1\n",
      "Epoch 30, Training accuracy 1\n",
      "Epoch 31, Training accuracy 1\n",
      "Epoch 32, Training accuracy 1\n",
      "Epoch 33, Training accuracy 1\n",
      "Epoch 34, Training accuracy 1\n",
      "Epoch 35, Training accuracy 1\n",
      "Epoch 36, Training accuracy 1\n",
      "Epoch 37, Training accuracy 1\n",
      "Epoch 38, Training accuracy 1\n",
      "Epoch 39, Training accuracy 1\n",
      "Epoch 40, Training accuracy 1\n",
      "Epoch 41, Training accuracy 1\n",
      "Epoch 42, Training accuracy 1\n",
      "Epoch 43, Training accuracy 1\n",
      "Epoch 44, Training accuracy 1\n",
      "Epoch 45, Training accuracy 1\n",
      "Epoch 46, Training accuracy 1\n",
      "Epoch 47, Training accuracy 1\n",
      "Epoch 48, Training accuracy 1\n",
      "Epoch 49, Training accuracy 1\n",
      "Epoch 50, Training accuracy 1\n",
      "Epoch 51, Training accuracy 1\n",
      "Epoch 52, Training accuracy 1\n",
      "Epoch 53, Training accuracy 1\n",
      "Epoch 54, Training accuracy 1\n",
      "Epoch 55, Training accuracy 1\n",
      "Epoch 56, Training accuracy 1\n",
      "Epoch 57, Training accuracy 1\n",
      "Epoch 58, Training accuracy 1\n",
      "Epoch 59, Training accuracy 1\n",
      "Epoch 60, Training accuracy 1\n",
      "Epoch 61, Training accuracy 1\n",
      "Epoch 62, Training accuracy 1\n",
      "Epoch 63, Training accuracy 1\n",
      "Epoch 64, Training accuracy 1\n",
      "Epoch 65, Training accuracy 1\n",
      "Epoch 66, Training accuracy 1\n",
      "Epoch 67, Training accuracy 1\n",
      "Epoch 68, Training accuracy 1\n",
      "Epoch 69, Training accuracy 1\n",
      "Epoch 70, Training accuracy 1\n",
      "Epoch 71, Training accuracy 1\n",
      "Epoch 72, Training accuracy 1\n",
      "Epoch 73, Training accuracy 1\n",
      "Epoch 74, Training accuracy 1\n",
      "Epoch 75, Training accuracy 1\n",
      "Epoch 76, Training accuracy 1\n",
      "Epoch 77, Training accuracy 1\n",
      "Epoch 78, Training accuracy 1\n",
      "Epoch 79, Training accuracy 1\n",
      "Epoch 80, Training accuracy 1\n",
      "Epoch 81, Training accuracy 1\n",
      "Epoch 82, Training accuracy 1\n",
      "Epoch 83, Training accuracy 1\n",
      "Epoch 84, Training accuracy 1\n",
      "Epoch 85, Training accuracy 1\n",
      "Epoch 86, Training accuracy 1\n",
      "Epoch 87, Training accuracy 1\n",
      "Epoch 88, Training accuracy 1\n",
      "Epoch 89, Training accuracy 1\n",
      "Epoch 90, Training accuracy 1\n",
      "Epoch 91, Training accuracy 1\n",
      "Epoch 92, Training accuracy 1\n",
      "Epoch 93, Training accuracy 1\n",
      "Epoch 94, Training accuracy 1\n",
      "Epoch 95, Training accuracy 1\n",
      "Epoch 96, Training accuracy 1\n",
      "Epoch 97, Training accuracy 1\n",
      "Epoch 98, Training accuracy 1\n",
      "Epoch 99, Training accuracy 1\n",
      "Epoch 100, Training accuracy 1\n",
      "Epoch 101, Training accuracy 1\n",
      "Epoch 102, Training accuracy 1\n",
      "Epoch 103, Training accuracy 1\n",
      "Epoch 104, Training accuracy 1\n",
      "Epoch 105, Training accuracy 1\n",
      "Epoch 106, Training accuracy 1\n",
      "Epoch 107, Training accuracy 1\n",
      "Epoch 108, Training accuracy 1\n",
      "Epoch 109, Training accuracy 1\n",
      "Epoch 110, Training accuracy 1\n",
      "Epoch 111, Training accuracy 1\n",
      "Epoch 112, Training accuracy 1\n",
      "Epoch 113, Training accuracy 1\n",
      "Epoch 114, Training accuracy 1\n",
      "Epoch 115, Training accuracy 1\n",
      "Epoch 116, Training accuracy 1\n",
      "Epoch 117, Training accuracy 1\n",
      "Epoch 118, Training accuracy 1\n",
      "Epoch 119, Training accuracy 1\n",
      "Epoch 120, Training accuracy 1\n",
      "Epoch 121, Training accuracy 1\n",
      "Epoch 122, Training accuracy 1\n",
      "Epoch 123, Training accuracy 1\n",
      "Epoch 124, Training accuracy 1\n",
      "Epoch 125, Training accuracy 1\n",
      "Epoch 126, Training accuracy 1\n",
      "Epoch 127, Training accuracy 1\n",
      "Epoch 128, Training accuracy 1\n",
      "Epoch 129, Training accuracy 1\n",
      "Epoch 130, Training accuracy 1\n",
      "Epoch 131, Training accuracy 1\n",
      "Epoch 132, Training accuracy 1\n",
      "Epoch 133, Training accuracy 1\n",
      "Epoch 134, Training accuracy 1\n",
      "Epoch 135, Training accuracy 1\n",
      "Epoch 136, Training accuracy 1\n",
      "Epoch 137, Training accuracy 1\n",
      "Epoch 138, Training accuracy 1\n",
      "Epoch 139, Training accuracy 1\n",
      "Epoch 140, Training accuracy 1\n",
      "Epoch 141, Training accuracy 1\n",
      "Epoch 142, Training accuracy 1\n",
      "Epoch 143, Training accuracy 1\n",
      "Epoch 144, Training accuracy 1\n",
      "Epoch 145, Training accuracy 1\n",
      "Epoch 146, Training accuracy 1\n",
      "Epoch 147, Training accuracy 1\n",
      "Epoch 148, Training accuracy 1\n",
      "Epoch 149, Training accuracy 1\n",
      "Epoch 150, Training accuracy 1\n",
      "Epoch 151, Training accuracy 1\n",
      "Epoch 152, Training accuracy 1\n",
      "Epoch 153, Training accuracy 1\n",
      "Epoch 154, Training accuracy 1\n",
      "Epoch 155, Training accuracy 1\n",
      "Epoch 156, Training accuracy 1\n",
      "Epoch 157, Training accuracy 1\n",
      "Epoch 158, Training accuracy 1\n",
      "Epoch 159, Training accuracy 1\n",
      "Epoch 160, Training accuracy 1\n",
      "Epoch 161, Training accuracy 1\n",
      "Epoch 162, Training accuracy 1\n",
      "Epoch 163, Training accuracy 1\n",
      "Epoch 164, Training accuracy 1\n",
      "Epoch 165, Training accuracy 1\n",
      "Epoch 166, Training accuracy 1\n",
      "Epoch 167, Training accuracy 1\n",
      "Epoch 168, Training accuracy 1\n",
      "Epoch 169, Training accuracy 1\n",
      "Epoch 170, Training accuracy 1\n",
      "Epoch 171, Training accuracy 1\n",
      "Epoch 172, Training accuracy 1\n",
      "Epoch 173, Training accuracy 1\n",
      "Epoch 174, Training accuracy 1\n",
      "Epoch 175, Training accuracy 1\n",
      "Epoch 176, Training accuracy 1\n",
      "Epoch 177, Training accuracy 1\n",
      "Epoch 178, Training accuracy 1\n",
      "Epoch 179, Training accuracy 1\n",
      "Epoch 180, Training accuracy 1\n",
      "Epoch 181, Training accuracy 1\n",
      "Epoch 182, Training accuracy 1\n",
      "Epoch 183, Training accuracy 1\n",
      "Epoch 184, Training accuracy 1\n",
      "Epoch 185, Training accuracy 1\n",
      "Epoch 186, Training accuracy 1\n",
      "Epoch 187, Training accuracy 1\n",
      "Epoch 188, Training accuracy 1\n",
      "Epoch 189, Training accuracy 1\n",
      "Epoch 190, Training accuracy 1\n",
      "Epoch 191, Training accuracy 1\n",
      "Epoch 192, Training accuracy 1\n",
      "Epoch 193, Training accuracy 1\n",
      "Epoch 194, Training accuracy 1\n",
      "Epoch 195, Training accuracy 1\n",
      "Epoch 196, Training accuracy 1\n",
      "Epoch 197, Training accuracy 1\n",
      "Epoch 198, Training accuracy 1\n",
      "Epoch 199, Training accuracy 1\n",
      "Epoch 200, Training accuracy 1\n",
      "Epoch 201, Training accuracy 1\n",
      "Epoch 202, Training accuracy 1\n",
      "Epoch 203, Training accuracy 1\n",
      "Epoch 204, Training accuracy 1\n",
      "Epoch 205, Training accuracy 1\n",
      "Epoch 206, Training accuracy 1\n",
      "Epoch 207, Training accuracy 1\n",
      "Epoch 208, Training accuracy 1\n",
      "Epoch 209, Training accuracy 1\n",
      "Epoch 210, Training accuracy 1\n",
      "Epoch 211, Training accuracy 1\n",
      "Epoch 212, Training accuracy 1\n",
      "Epoch 213, Training accuracy 1\n",
      "Epoch 214, Training accuracy 1\n",
      "Epoch 215, Training accuracy 1\n",
      "Epoch 216, Training accuracy 1\n",
      "Epoch 217, Training accuracy 1\n",
      "Epoch 218, Training accuracy 1\n",
      "Epoch 219, Training accuracy 1\n",
      "Epoch 220, Training accuracy 1\n",
      "Epoch 221, Training accuracy 1\n",
      "Epoch 222, Training accuracy 1\n",
      "Epoch 223, Training accuracy 1\n",
      "Epoch 224, Training accuracy 1\n",
      "Epoch 225, Training accuracy 1\n",
      "Epoch 226, Training accuracy 1\n",
      "Epoch 227, Training accuracy 1\n",
      "Epoch 228, Training accuracy 1\n",
      "Epoch 229, Training accuracy 1\n",
      "Epoch 230, Training accuracy 1\n",
      "Epoch 231, Training accuracy 1\n",
      "Epoch 232, Training accuracy 1\n",
      "Epoch 233, Training accuracy 1\n",
      "Epoch 234, Training accuracy 1\n",
      "Epoch 235, Training accuracy 1\n",
      "Epoch 236, Training accuracy 1\n",
      "Epoch 237, Training accuracy 1\n",
      "Epoch 238, Training accuracy 1\n",
      "Epoch 239, Training accuracy 1\n",
      "Epoch 240, Training accuracy 1\n",
      "Epoch 241, Training accuracy 1\n",
      "Epoch 242, Training accuracy 1\n",
      "Epoch 243, Training accuracy 1\n",
      "Epoch 244, Training accuracy 1\n",
      "Epoch 245, Training accuracy 1\n",
      "Epoch 246, Training accuracy 1\n",
      "Epoch 247, Training accuracy 1\n",
      "Epoch 248, Training accuracy 1\n",
      "Epoch 249, Training accuracy 1\n",
      "Epoch 250, Training accuracy 1\n",
      "Epoch 251, Training accuracy 1\n",
      "Epoch 252, Training accuracy 1\n",
      "Epoch 253, Training accuracy 1\n",
      "Epoch 254, Training accuracy 1\n",
      "Epoch 255, Training accuracy 1\n",
      "Epoch 256, Training accuracy 1\n",
      "Epoch 257, Training accuracy 1\n",
      "Epoch 258, Training accuracy 1\n",
      "Epoch 259, Training accuracy 1\n",
      "Epoch 260, Training accuracy 1\n",
      "Epoch 261, Training accuracy 1\n",
      "Epoch 262, Training accuracy 1\n",
      "Epoch 263, Training accuracy 1\n",
      "Epoch 264, Training accuracy 1\n",
      "Epoch 265, Training accuracy 1\n",
      "Epoch 266, Training accuracy 1\n"
     ]
    },
    {
     "name": "stdout",
     "output_type": "stream",
     "text": [
      "Epoch 267, Training accuracy 1\n",
      "Epoch 268, Training accuracy 1\n",
      "Epoch 269, Training accuracy 1\n",
      "Epoch 270, Training accuracy 1\n",
      "Epoch 271, Training accuracy 1\n",
      "Epoch 272, Training accuracy 1\n",
      "Epoch 273, Training accuracy 1\n",
      "Epoch 274, Training accuracy 1\n",
      "Epoch 275, Training accuracy 1\n",
      "Epoch 276, Training accuracy 1\n",
      "Epoch 277, Training accuracy 1\n",
      "Epoch 278, Training accuracy 1\n",
      "Epoch 279, Training accuracy 1\n",
      "Epoch 280, Training accuracy 1\n",
      "Epoch 281, Training accuracy 1\n",
      "Epoch 282, Training accuracy 1\n",
      "Epoch 283, Training accuracy 1\n",
      "Epoch 284, Training accuracy 1\n",
      "Epoch 285, Training accuracy 1\n",
      "Epoch 286, Training accuracy 1\n",
      "Epoch 287, Training accuracy 1\n",
      "Epoch 288, Training accuracy 1\n",
      "Epoch 289, Training accuracy 1\n",
      "Epoch 290, Training accuracy 1\n",
      "Epoch 291, Training accuracy 1\n",
      "Epoch 292, Training accuracy 1\n",
      "Epoch 293, Training accuracy 1\n",
      "Epoch 294, Training accuracy 1\n",
      "Epoch 295, Training accuracy 1\n",
      "Epoch 296, Training accuracy 1\n",
      "Epoch 297, Training accuracy 1\n",
      "Epoch 298, Training accuracy 1\n",
      "Epoch 299, Training accuracy 1\n",
      "Epoch 300, Training accuracy 1\n",
      "Epoch 301, Training accuracy 1\n",
      "Epoch 302, Training accuracy 1\n",
      "Epoch 303, Training accuracy 1\n",
      "Epoch 304, Training accuracy 1\n",
      "Epoch 305, Training accuracy 1\n",
      "Epoch 306, Training accuracy 1\n",
      "Epoch 307, Training accuracy 1\n",
      "Epoch 308, Training accuracy 1\n",
      "Epoch 309, Training accuracy 1\n",
      "Epoch 310, Training accuracy 1\n",
      "Epoch 311, Training accuracy 1\n",
      "Epoch 312, Training accuracy 1\n",
      "Epoch 313, Training accuracy 1\n",
      "Epoch 314, Training accuracy 1\n",
      "Epoch 315, Training accuracy 1\n",
      "Epoch 316, Training accuracy 1\n",
      "Epoch 317, Training accuracy 1\n",
      "Epoch 318, Training accuracy 1\n",
      "Epoch 319, Training accuracy 1\n",
      "Epoch 320, Training accuracy 1\n",
      "Epoch 321, Training accuracy 1\n",
      "Epoch 322, Training accuracy 1\n",
      "Epoch 323, Training accuracy 1\n",
      "Epoch 324, Training accuracy 1\n",
      "Epoch 325, Training accuracy 1\n",
      "Epoch 326, Training accuracy 1\n",
      "Epoch 327, Training accuracy 1\n",
      "Epoch 328, Training accuracy 1\n",
      "Epoch 329, Training accuracy 1\n",
      "Epoch 330, Training accuracy 1\n",
      "Epoch 331, Training accuracy 1\n",
      "Epoch 332, Training accuracy 1\n",
      "Epoch 333, Training accuracy 1\n",
      "Epoch 334, Training accuracy 1\n",
      "Epoch 335, Training accuracy 1\n",
      "Epoch 336, Training accuracy 1\n",
      "Epoch 337, Training accuracy 1\n",
      "Epoch 338, Training accuracy 1\n",
      "Epoch 339, Training accuracy 1\n",
      "Epoch 340, Training accuracy 1\n",
      "Epoch 341, Training accuracy 1\n",
      "Epoch 342, Training accuracy 1\n",
      "Epoch 343, Training accuracy 1\n",
      "Epoch 344, Training accuracy 1\n",
      "Epoch 345, Training accuracy 1\n",
      "Epoch 346, Training accuracy 1\n",
      "Epoch 347, Training accuracy 1\n",
      "Epoch 348, Training accuracy 1\n",
      "Epoch 349, Training accuracy 1\n",
      "Epoch 350, Training accuracy 1\n",
      "Epoch 351, Training accuracy 1\n",
      "Epoch 352, Training accuracy 1\n",
      "Epoch 353, Training accuracy 1\n",
      "Epoch 354, Training accuracy 1\n",
      "Epoch 355, Training accuracy 1\n",
      "Epoch 356, Training accuracy 1\n",
      "Epoch 357, Training accuracy 1\n",
      "Epoch 358, Training accuracy 1\n",
      "Epoch 359, Training accuracy 1\n",
      "Epoch 360, Training accuracy 1\n",
      "Epoch 361, Training accuracy 1\n",
      "Epoch 362, Training accuracy 1\n",
      "Epoch 363, Training accuracy 1\n",
      "Epoch 364, Training accuracy 1\n",
      "Epoch 365, Training accuracy 1\n",
      "Epoch 366, Training accuracy 1\n",
      "Epoch 367, Training accuracy 1\n",
      "Epoch 368, Training accuracy 1\n",
      "Epoch 369, Training accuracy 1\n",
      "Epoch 370, Training accuracy 1\n",
      "Epoch 371, Training accuracy 1\n",
      "Epoch 372, Training accuracy 1\n",
      "Epoch 373, Training accuracy 1\n",
      "Epoch 374, Training accuracy 1\n",
      "Epoch 375, Training accuracy 1\n",
      "Epoch 376, Training accuracy 1\n",
      "Epoch 377, Training accuracy 1\n",
      "Epoch 378, Training accuracy 1\n",
      "Epoch 379, Training accuracy 1\n",
      "Epoch 380, Training accuracy 1\n",
      "Epoch 381, Training accuracy 1\n",
      "Epoch 382, Training accuracy 1\n",
      "Epoch 383, Training accuracy 1\n",
      "Epoch 384, Training accuracy 1\n",
      "Epoch 385, Training accuracy 1\n",
      "Epoch 386, Training accuracy 1\n",
      "Epoch 387, Training accuracy 1\n",
      "Epoch 388, Training accuracy 1\n",
      "Epoch 389, Training accuracy 1\n",
      "Epoch 390, Training accuracy 1\n",
      "Epoch 391, Training accuracy 1\n",
      "Epoch 392, Training accuracy 1\n",
      "Epoch 393, Training accuracy 1\n",
      "Epoch 394, Training accuracy 1\n",
      "Epoch 395, Training accuracy 1\n",
      "Epoch 396, Training accuracy 1\n",
      "Epoch 397, Training accuracy 1\n",
      "Epoch 398, Training accuracy 1\n",
      "Epoch 399, Training accuracy 1\n",
      "Epoch 400, Training accuracy 1\n",
      "Epoch 401, Training accuracy 1\n",
      "Epoch 402, Training accuracy 1\n",
      "Epoch 403, Training accuracy 1\n",
      "Epoch 404, Training accuracy 1\n",
      "Epoch 405, Training accuracy 1\n",
      "Epoch 406, Training accuracy 1\n",
      "Epoch 407, Training accuracy 1\n",
      "Epoch 408, Training accuracy 1\n",
      "Epoch 409, Training accuracy 1\n",
      "Epoch 410, Training accuracy 1\n",
      "Epoch 411, Training accuracy 1\n",
      "Epoch 412, Training accuracy 1\n",
      "Epoch 413, Training accuracy 1\n",
      "Epoch 414, Training accuracy 1\n",
      "Epoch 415, Training accuracy 1\n",
      "Epoch 416, Training accuracy 1\n",
      "Epoch 417, Training accuracy 1\n",
      "Epoch 418, Training accuracy 1\n",
      "Epoch 419, Training accuracy 1\n",
      "Epoch 420, Training accuracy 1\n",
      "Epoch 421, Training accuracy 1\n",
      "Epoch 422, Training accuracy 1\n",
      "Epoch 423, Training accuracy 1\n",
      "Epoch 424, Training accuracy 1\n",
      "Epoch 425, Training accuracy 1\n",
      "Epoch 426, Training accuracy 1\n",
      "Epoch 427, Training accuracy 1\n",
      "Epoch 428, Training accuracy 1\n",
      "Epoch 429, Training accuracy 1\n",
      "Epoch 430, Training accuracy 1\n",
      "Epoch 431, Training accuracy 1\n",
      "Epoch 432, Training accuracy 1\n",
      "Epoch 433, Training accuracy 1\n",
      "Epoch 434, Training accuracy 1\n",
      "Epoch 435, Training accuracy 1\n",
      "Epoch 436, Training accuracy 1\n",
      "Epoch 437, Training accuracy 1\n",
      "Epoch 438, Training accuracy 1\n",
      "Epoch 439, Training accuracy 1\n",
      "Epoch 440, Training accuracy 1\n",
      "Epoch 441, Training accuracy 1\n",
      "Epoch 442, Training accuracy 1\n",
      "Epoch 443, Training accuracy 1\n",
      "Epoch 444, Training accuracy 1\n",
      "Epoch 445, Training accuracy 1\n",
      "Epoch 446, Training accuracy 1\n",
      "Epoch 447, Training accuracy 1\n",
      "Epoch 448, Training accuracy 1\n",
      "Epoch 449, Training accuracy 1\n",
      "Epoch 450, Training accuracy 1\n",
      "Epoch 451, Training accuracy 1\n",
      "Epoch 452, Training accuracy 1\n",
      "Epoch 453, Training accuracy 1\n",
      "Epoch 454, Training accuracy 1\n",
      "Epoch 455, Training accuracy 1\n",
      "Epoch 456, Training accuracy 1\n",
      "Epoch 457, Training accuracy 1\n",
      "Epoch 458, Training accuracy 1\n",
      "Epoch 459, Training accuracy 1\n",
      "Epoch 460, Training accuracy 1\n",
      "Epoch 461, Training accuracy 1\n",
      "Epoch 462, Training accuracy 1\n",
      "Epoch 463, Training accuracy 1\n",
      "Epoch 464, Training accuracy 1\n",
      "Epoch 465, Training accuracy 1\n",
      "Epoch 466, Training accuracy 1\n",
      "Epoch 467, Training accuracy 1\n",
      "Epoch 468, Training accuracy 1\n",
      "Epoch 469, Training accuracy 1\n",
      "Epoch 470, Training accuracy 1\n",
      "Epoch 471, Training accuracy 1\n",
      "Epoch 472, Training accuracy 1\n",
      "Epoch 473, Training accuracy 1\n",
      "Epoch 474, Training accuracy 1\n",
      "Epoch 475, Training accuracy 1\n",
      "Epoch 476, Training accuracy 1\n",
      "Epoch 477, Training accuracy 1\n",
      "Epoch 478, Training accuracy 1\n",
      "Epoch 479, Training accuracy 1\n",
      "Epoch 480, Training accuracy 1\n",
      "Epoch 481, Training accuracy 1\n",
      "Epoch 482, Training accuracy 1\n",
      "Epoch 483, Training accuracy 1\n",
      "Epoch 484, Training accuracy 1\n",
      "Epoch 485, Training accuracy 1\n",
      "Epoch 486, Training accuracy 1\n",
      "Epoch 487, Training accuracy 1\n",
      "Epoch 488, Training accuracy 1\n",
      "Epoch 489, Training accuracy 1\n",
      "Epoch 490, Training accuracy 1\n",
      "Epoch 491, Training accuracy 1\n",
      "Epoch 492, Training accuracy 1\n",
      "Epoch 493, Training accuracy 1\n",
      "Epoch 494, Training accuracy 1\n",
      "Epoch 495, Training accuracy 1\n",
      "Epoch 496, Training accuracy 1\n",
      "Epoch 497, Training accuracy 1\n",
      "Epoch 498, Training accuracy 1\n",
      "Epoch 499, Training accuracy 1\n",
      "----- Train End -----\n",
      "---Programm end---\n"
     ]
    }
   ],
   "source": [
    "x_batch, y_batch = get_Batch(train_X, train_y, batch_size)\n",
    "x_batch = tf.expand_dims(x_batch, axis=1)\n",
    "with tf.Session() as sess:\n",
    "    sess.run(tf.global_variables_initializer())\n",
    "    epoch = 0\n",
    "    sess.run(tf.local_variables_initializer())\n",
    "    # 开启协调器\n",
    "    coord = tf.train.Coordinator()\n",
    "    # 使用start_queue_runners 启动队列填充\n",
    "    threads = tf.train.start_queue_runners(sess, coord)\n",
    "    try:\n",
    "        while epoch * batch_size < training_iters:\n",
    "    #         print(\"IN\")\n",
    "    #         data,label = sess.run([x_batch, y_batch])\n",
    "    #         print(\"IN\")\n",
    "            data, label = sess.run([x_batch, y_batch])\n",
    "\n",
    "            sess.run(train_op, feed_dict={x: data, y: label})\n",
    "            train_accuracy = accuracy.eval({x: data, y: label})\n",
    "            print(\"Epoch %d, Training accuracy %g\" % (epoch, train_accuracy))\n",
    "            epoch = epoch + 1\n",
    "    except tf.errors.OutOfRangeError:\n",
    "        print(\"----- Train End -----\")\n",
    "    finally:\n",
    "        # 协调器coord发出所有线程终止信号\n",
    "        coord.request_stop()\n",
    "        print('---Programm end---')   \n",
    "    coord.join(threads)  # 把开启的线程加入主线程，等待threads结束"
   ]
  },
  {
   "cell_type": "markdown",
   "metadata": {},
   "source": [
    "# <a id='6'>预测</a>  "
   ]
  },
  {
   "cell_type": "code",
   "execution_count": 41,
   "metadata": {},
   "outputs": [
    {
     "name": "stdout",
     "output_type": "stream",
     "text": [
      "(2624, 1)\n",
      "(2624, 150000)\n"
     ]
    },
    {
     "data": {
      "text/html": [
       "<div>\n",
       "<style scoped>\n",
       "    .dataframe tbody tr th:only-of-type {\n",
       "        vertical-align: middle;\n",
       "    }\n",
       "\n",
       "    .dataframe tbody tr th {\n",
       "        vertical-align: top;\n",
       "    }\n",
       "\n",
       "    .dataframe thead th {\n",
       "        text-align: right;\n",
       "    }\n",
       "</style>\n",
       "<table border=\"1\" class=\"dataframe\">\n",
       "  <thead>\n",
       "    <tr style=\"text-align: right;\">\n",
       "      <th></th>\n",
       "      <th>time_to_failure</th>\n",
       "    </tr>\n",
       "    <tr>\n",
       "      <th>seg_id</th>\n",
       "      <th></th>\n",
       "    </tr>\n",
       "  </thead>\n",
       "  <tbody>\n",
       "    <tr>\n",
       "      <th>seg_00030f</th>\n",
       "      <td>0</td>\n",
       "    </tr>\n",
       "    <tr>\n",
       "      <th>seg_0012b5</th>\n",
       "      <td>0</td>\n",
       "    </tr>\n",
       "    <tr>\n",
       "      <th>seg_00184e</th>\n",
       "      <td>0</td>\n",
       "    </tr>\n",
       "    <tr>\n",
       "      <th>seg_003339</th>\n",
       "      <td>0</td>\n",
       "    </tr>\n",
       "    <tr>\n",
       "      <th>seg_0042cc</th>\n",
       "      <td>0</td>\n",
       "    </tr>\n",
       "  </tbody>\n",
       "</table>\n",
       "</div>"
      ],
      "text/plain": [
       "            time_to_failure\n",
       "seg_id                     \n",
       "seg_00030f                0\n",
       "seg_0012b5                0\n",
       "seg_00184e                0\n",
       "seg_003339                0\n",
       "seg_0042cc                0"
      ]
     },
     "execution_count": 41,
     "metadata": {},
     "output_type": "execute_result"
    }
   ],
   "source": [
    "submission = pd.read_csv('../../sample_submission.csv',index_col='seg_id')\n",
    "print(np.shape(submission))\n",
    "test_X = np.zeros((np.shape(submission)[0],rows),dtype = np.float32)\n",
    "print(np.shape(test_X))\n",
    "submission.head(5)"
   ]
  },
  {
   "cell_type": "code",
   "execution_count": 42,
   "metadata": {},
   "outputs": [
    {
     "name": "stderr",
     "output_type": "stream",
     "text": [
      "100%|██████████████████████████████████████████████████████████████████████████████| 2624/2624 [00:43<00:00, 35.88it/s]\n"
     ]
    }
   ],
   "source": [
    "# iterate over all seg_ids\n",
    "for i, seg_id in enumerate(tqdm((submission.index))):\n",
    "    seg = pd.read_csv('F:/Softcodes/Python/LANL_Earthquake/datasets/testsets/' + seg_id + '.csv')\n",
    "    xc = pd.Series(seg['acoustic_data'].values)\n",
    "    test_X[i] = xc"
   ]
  },
  {
   "cell_type": "code",
   "execution_count": 43,
   "metadata": {},
   "outputs": [
    {
     "name": "stdout",
     "output_type": "stream",
     "text": [
      "[[[ 4.  0. -2. ...,  6.  9.  8.]]\n",
      "\n",
      " [[ 5.  8.  8. ...,  2.  1.  3.]]\n",
      "\n",
      " [[ 8.  2.  3. ..., -1.  2.  5.]]\n",
      "\n",
      " [[ 2.  6.  3. ...,  2. -2.  9.]]\n",
      "\n",
      " [[ 5.  3.  1. ...,  2.  5.  4.]]]\n",
      "(2624, 1, 150000)\n"
     ]
    }
   ],
   "source": [
    "test_X = np.reshape(test_X,[np.shape(test_X)[0],1,rows])\n",
    "print(test_X[:5])\n",
    "print(np.shape(test_X))\n"
   ]
  },
  {
   "cell_type": "code",
   "execution_count": null,
   "metadata": {
    "collapsed": true
   },
   "outputs": [],
   "source": []
  },
  {
   "cell_type": "code",
   "execution_count": null,
   "metadata": {
    "collapsed": true
   },
   "outputs": [],
   "source": []
  },
  {
   "cell_type": "code",
   "execution_count": null,
   "metadata": {
    "collapsed": true
   },
   "outputs": [],
   "source": []
  },
  {
   "cell_type": "code",
   "execution_count": 44,
   "metadata": {},
   "outputs": [
    {
     "name": "stdout",
     "output_type": "stream",
     "text": [
      "(1000, 1, 150000)\n",
      "(1000, 150000)\n",
      "(1000, 150000)\n"
     ]
    },
    {
     "ename": "ValueError",
     "evalue": "Variable rnn/basic_lstm_cell/kernel already exists, disallowed. Did you mean to set reuse=True in VarScope? Originally defined at:\n\n  File \"D:\\Softwares\\Python\\Anaconda\\lib\\site-packages\\tensorflow\\python\\framework\\ops.py\", line 1269, in __init__\n    self._traceback = _extract_stack()\n  File \"D:\\Softwares\\Python\\Anaconda\\lib\\site-packages\\tensorflow\\python\\framework\\ops.py\", line 2506, in create_op\n    original_op=self._default_original_op, op_def=op_def)\n  File \"D:\\Softwares\\Python\\Anaconda\\lib\\site-packages\\tensorflow\\python\\framework\\op_def_library.py\", line 767, in apply_op\n    op_def=op_def)\n",
     "output_type": "error",
     "traceback": [
      "\u001b[1;31m---------------------------------------------------------------------------\u001b[0m",
      "\u001b[1;31mValueError\u001b[0m                                Traceback (most recent call last)",
      "\u001b[1;32m<ipython-input-44-f38096eb7efa>\u001b[0m in \u001b[0;36m<module>\u001b[1;34m()\u001b[0m\n\u001b[1;32m----> 1\u001b[1;33m \u001b[0mtest_predictions\u001b[0m \u001b[1;33m=\u001b[0m \u001b[0mRNN\u001b[0m\u001b[1;33m(\u001b[0m\u001b[0mtest_X\u001b[0m\u001b[1;33m[\u001b[0m\u001b[1;33m:\u001b[0m\u001b[1;36m1000\u001b[0m\u001b[1;33m]\u001b[0m\u001b[1;33m,\u001b[0m\u001b[0mweights\u001b[0m\u001b[1;33m,\u001b[0m\u001b[0mbiases\u001b[0m\u001b[1;33m)\u001b[0m\u001b[1;33m\u001b[0m\u001b[1;33m\u001b[0m\u001b[0m\n\u001b[0m",
      "\u001b[1;32m<ipython-input-14-f3656e555436>\u001b[0m in \u001b[0;36mRNN\u001b[1;34m(X, weights, biases)\u001b[0m\n\u001b[0;32m     13\u001b[0m \u001b[1;33m\u001b[0m\u001b[0m\n\u001b[0;32m     14\u001b[0m     \u001b[1;31m# dynamic_rnn接收张量(batch,steps,inputs)\u001b[0m\u001b[1;33m\u001b[0m\u001b[1;33m\u001b[0m\u001b[1;33m\u001b[0m\u001b[0m\n\u001b[1;32m---> 15\u001b[1;33m     \u001b[0moutputs\u001b[0m\u001b[1;33m,\u001b[0m\u001b[0mfinal_state\u001b[0m \u001b[1;33m=\u001b[0m \u001b[0mtf\u001b[0m\u001b[1;33m.\u001b[0m\u001b[0mnn\u001b[0m\u001b[1;33m.\u001b[0m\u001b[0mdynamic_rnn\u001b[0m\u001b[1;33m(\u001b[0m\u001b[0mlstm_cell\u001b[0m\u001b[1;33m,\u001b[0m\u001b[0mX_in\u001b[0m\u001b[1;33m,\u001b[0m\u001b[0minitial_state\u001b[0m \u001b[1;33m=\u001b[0m \u001b[0minit_state\u001b[0m\u001b[1;33m,\u001b[0m\u001b[0mtime_major\u001b[0m \u001b[1;33m=\u001b[0m \u001b[1;32mFalse\u001b[0m\u001b[1;33m)\u001b[0m\u001b[1;33m\u001b[0m\u001b[1;33m\u001b[0m\u001b[0m\n\u001b[0m\u001b[0;32m     16\u001b[0m \u001b[1;33m\u001b[0m\u001b[0m\n\u001b[0;32m     17\u001b[0m     \u001b[0mX_out\u001b[0m \u001b[1;33m=\u001b[0m \u001b[0mtf\u001b[0m\u001b[1;33m.\u001b[0m\u001b[0mmatmul\u001b[0m\u001b[1;33m(\u001b[0m\u001b[0mfinal_state\u001b[0m\u001b[1;33m[\u001b[0m\u001b[1;36m1\u001b[0m\u001b[1;33m]\u001b[0m\u001b[1;33m,\u001b[0m\u001b[0mweights\u001b[0m\u001b[1;33m[\u001b[0m\u001b[1;34m'out'\u001b[0m\u001b[1;33m]\u001b[0m\u001b[1;33m)\u001b[0m\u001b[1;33m+\u001b[0m\u001b[0mbiases\u001b[0m\u001b[1;33m[\u001b[0m\u001b[1;34m'out'\u001b[0m\u001b[1;33m]\u001b[0m\u001b[1;33m\u001b[0m\u001b[1;33m\u001b[0m\u001b[0m\n",
      "\u001b[1;32mD:\\Softwares\\Python\\Anaconda\\lib\\site-packages\\tensorflow\\python\\ops\\rnn.py\u001b[0m in \u001b[0;36mdynamic_rnn\u001b[1;34m(cell, inputs, sequence_length, initial_state, dtype, parallel_iterations, swap_memory, time_major, scope)\u001b[0m\n\u001b[0;32m    572\u001b[0m         \u001b[0mswap_memory\u001b[0m\u001b[1;33m=\u001b[0m\u001b[0mswap_memory\u001b[0m\u001b[1;33m,\u001b[0m\u001b[1;33m\u001b[0m\u001b[1;33m\u001b[0m\u001b[0m\n\u001b[0;32m    573\u001b[0m         \u001b[0msequence_length\u001b[0m\u001b[1;33m=\u001b[0m\u001b[0msequence_length\u001b[0m\u001b[1;33m,\u001b[0m\u001b[1;33m\u001b[0m\u001b[1;33m\u001b[0m\u001b[0m\n\u001b[1;32m--> 574\u001b[1;33m         dtype=dtype)\n\u001b[0m\u001b[0;32m    575\u001b[0m \u001b[1;33m\u001b[0m\u001b[0m\n\u001b[0;32m    576\u001b[0m     \u001b[1;31m# Outputs of _dynamic_rnn_loop are always shaped [time, batch, depth].\u001b[0m\u001b[1;33m\u001b[0m\u001b[1;33m\u001b[0m\u001b[1;33m\u001b[0m\u001b[0m\n",
      "\u001b[1;32mD:\\Softwares\\Python\\Anaconda\\lib\\site-packages\\tensorflow\\python\\ops\\rnn.py\u001b[0m in \u001b[0;36m_dynamic_rnn_loop\u001b[1;34m(cell, inputs, initial_state, parallel_iterations, swap_memory, sequence_length, dtype)\u001b[0m\n\u001b[0;32m    735\u001b[0m       \u001b[0mloop_vars\u001b[0m\u001b[1;33m=\u001b[0m\u001b[1;33m(\u001b[0m\u001b[0mtime\u001b[0m\u001b[1;33m,\u001b[0m \u001b[0moutput_ta\u001b[0m\u001b[1;33m,\u001b[0m \u001b[0mstate\u001b[0m\u001b[1;33m)\u001b[0m\u001b[1;33m,\u001b[0m\u001b[1;33m\u001b[0m\u001b[1;33m\u001b[0m\u001b[0m\n\u001b[0;32m    736\u001b[0m       \u001b[0mparallel_iterations\u001b[0m\u001b[1;33m=\u001b[0m\u001b[0mparallel_iterations\u001b[0m\u001b[1;33m,\u001b[0m\u001b[1;33m\u001b[0m\u001b[1;33m\u001b[0m\u001b[0m\n\u001b[1;32m--> 737\u001b[1;33m       swap_memory=swap_memory)\n\u001b[0m\u001b[0;32m    738\u001b[0m \u001b[1;33m\u001b[0m\u001b[0m\n\u001b[0;32m    739\u001b[0m   \u001b[1;31m# Unpack final output if not using output tuples.\u001b[0m\u001b[1;33m\u001b[0m\u001b[1;33m\u001b[0m\u001b[1;33m\u001b[0m\u001b[0m\n",
      "\u001b[1;32mD:\\Softwares\\Python\\Anaconda\\lib\\site-packages\\tensorflow\\python\\ops\\control_flow_ops.py\u001b[0m in \u001b[0;36mwhile_loop\u001b[1;34m(cond, body, loop_vars, shape_invariants, parallel_iterations, back_prop, swap_memory, name)\u001b[0m\n\u001b[0;32m   2768\u001b[0m     \u001b[0mcontext\u001b[0m \u001b[1;33m=\u001b[0m \u001b[0mWhileContext\u001b[0m\u001b[1;33m(\u001b[0m\u001b[0mparallel_iterations\u001b[0m\u001b[1;33m,\u001b[0m \u001b[0mback_prop\u001b[0m\u001b[1;33m,\u001b[0m \u001b[0mswap_memory\u001b[0m\u001b[1;33m,\u001b[0m \u001b[0mname\u001b[0m\u001b[1;33m)\u001b[0m\u001b[1;33m\u001b[0m\u001b[1;33m\u001b[0m\u001b[0m\n\u001b[0;32m   2769\u001b[0m     \u001b[0mops\u001b[0m\u001b[1;33m.\u001b[0m\u001b[0madd_to_collection\u001b[0m\u001b[1;33m(\u001b[0m\u001b[0mops\u001b[0m\u001b[1;33m.\u001b[0m\u001b[0mGraphKeys\u001b[0m\u001b[1;33m.\u001b[0m\u001b[0mWHILE_CONTEXT\u001b[0m\u001b[1;33m,\u001b[0m \u001b[0mcontext\u001b[0m\u001b[1;33m)\u001b[0m\u001b[1;33m\u001b[0m\u001b[1;33m\u001b[0m\u001b[0m\n\u001b[1;32m-> 2770\u001b[1;33m     \u001b[0mresult\u001b[0m \u001b[1;33m=\u001b[0m \u001b[0mcontext\u001b[0m\u001b[1;33m.\u001b[0m\u001b[0mBuildLoop\u001b[0m\u001b[1;33m(\u001b[0m\u001b[0mcond\u001b[0m\u001b[1;33m,\u001b[0m \u001b[0mbody\u001b[0m\u001b[1;33m,\u001b[0m \u001b[0mloop_vars\u001b[0m\u001b[1;33m,\u001b[0m \u001b[0mshape_invariants\u001b[0m\u001b[1;33m)\u001b[0m\u001b[1;33m\u001b[0m\u001b[1;33m\u001b[0m\u001b[0m\n\u001b[0m\u001b[0;32m   2771\u001b[0m     \u001b[1;32mreturn\u001b[0m \u001b[0mresult\u001b[0m\u001b[1;33m\u001b[0m\u001b[1;33m\u001b[0m\u001b[0m\n\u001b[0;32m   2772\u001b[0m \u001b[1;33m\u001b[0m\u001b[0m\n",
      "\u001b[1;32mD:\\Softwares\\Python\\Anaconda\\lib\\site-packages\\tensorflow\\python\\ops\\control_flow_ops.py\u001b[0m in \u001b[0;36mBuildLoop\u001b[1;34m(self, pred, body, loop_vars, shape_invariants)\u001b[0m\n\u001b[0;32m   2597\u001b[0m       \u001b[0mself\u001b[0m\u001b[1;33m.\u001b[0m\u001b[0mEnter\u001b[0m\u001b[1;33m(\u001b[0m\u001b[1;33m)\u001b[0m\u001b[1;33m\u001b[0m\u001b[1;33m\u001b[0m\u001b[0m\n\u001b[0;32m   2598\u001b[0m       original_body_result, exit_vars = self._BuildLoop(\n\u001b[1;32m-> 2599\u001b[1;33m           pred, body, original_loop_vars, loop_vars, shape_invariants)\n\u001b[0m\u001b[0;32m   2600\u001b[0m     \u001b[1;32mfinally\u001b[0m\u001b[1;33m:\u001b[0m\u001b[1;33m\u001b[0m\u001b[1;33m\u001b[0m\u001b[0m\n\u001b[0;32m   2601\u001b[0m       \u001b[0mself\u001b[0m\u001b[1;33m.\u001b[0m\u001b[0mExit\u001b[0m\u001b[1;33m(\u001b[0m\u001b[1;33m)\u001b[0m\u001b[1;33m\u001b[0m\u001b[1;33m\u001b[0m\u001b[0m\n",
      "\u001b[1;32mD:\\Softwares\\Python\\Anaconda\\lib\\site-packages\\tensorflow\\python\\ops\\control_flow_ops.py\u001b[0m in \u001b[0;36m_BuildLoop\u001b[1;34m(self, pred, body, original_loop_vars, loop_vars, shape_invariants)\u001b[0m\n\u001b[0;32m   2547\u001b[0m         \u001b[0mstructure\u001b[0m\u001b[1;33m=\u001b[0m\u001b[0moriginal_loop_vars\u001b[0m\u001b[1;33m,\u001b[0m\u001b[1;33m\u001b[0m\u001b[1;33m\u001b[0m\u001b[0m\n\u001b[0;32m   2548\u001b[0m         flat_sequence=vars_for_body_with_tensor_arrays)\n\u001b[1;32m-> 2549\u001b[1;33m     \u001b[0mbody_result\u001b[0m \u001b[1;33m=\u001b[0m \u001b[0mbody\u001b[0m\u001b[1;33m(\u001b[0m\u001b[1;33m*\u001b[0m\u001b[0mpacked_vars_for_body\u001b[0m\u001b[1;33m)\u001b[0m\u001b[1;33m\u001b[0m\u001b[1;33m\u001b[0m\u001b[0m\n\u001b[0m\u001b[0;32m   2550\u001b[0m     \u001b[1;32mif\u001b[0m \u001b[1;32mnot\u001b[0m \u001b[0mnest\u001b[0m\u001b[1;33m.\u001b[0m\u001b[0mis_sequence\u001b[0m\u001b[1;33m(\u001b[0m\u001b[0mbody_result\u001b[0m\u001b[1;33m)\u001b[0m\u001b[1;33m:\u001b[0m\u001b[1;33m\u001b[0m\u001b[1;33m\u001b[0m\u001b[0m\n\u001b[0;32m   2551\u001b[0m       \u001b[0mbody_result\u001b[0m \u001b[1;33m=\u001b[0m \u001b[1;33m[\u001b[0m\u001b[0mbody_result\u001b[0m\u001b[1;33m]\u001b[0m\u001b[1;33m\u001b[0m\u001b[1;33m\u001b[0m\u001b[0m\n",
      "\u001b[1;32mD:\\Softwares\\Python\\Anaconda\\lib\\site-packages\\tensorflow\\python\\ops\\rnn.py\u001b[0m in \u001b[0;36m_time_step\u001b[1;34m(time, output_ta_t, state)\u001b[0m\n\u001b[0;32m    720\u001b[0m           skip_conditionals=True)\n\u001b[0;32m    721\u001b[0m     \u001b[1;32melse\u001b[0m\u001b[1;33m:\u001b[0m\u001b[1;33m\u001b[0m\u001b[1;33m\u001b[0m\u001b[0m\n\u001b[1;32m--> 722\u001b[1;33m       \u001b[1;33m(\u001b[0m\u001b[0moutput\u001b[0m\u001b[1;33m,\u001b[0m \u001b[0mnew_state\u001b[0m\u001b[1;33m)\u001b[0m \u001b[1;33m=\u001b[0m \u001b[0mcall_cell\u001b[0m\u001b[1;33m(\u001b[0m\u001b[1;33m)\u001b[0m\u001b[1;33m\u001b[0m\u001b[1;33m\u001b[0m\u001b[0m\n\u001b[0m\u001b[0;32m    723\u001b[0m \u001b[1;33m\u001b[0m\u001b[0m\n\u001b[0;32m    724\u001b[0m     \u001b[1;31m# Pack state if using state tuples\u001b[0m\u001b[1;33m\u001b[0m\u001b[1;33m\u001b[0m\u001b[1;33m\u001b[0m\u001b[0m\n",
      "\u001b[1;32mD:\\Softwares\\Python\\Anaconda\\lib\\site-packages\\tensorflow\\python\\ops\\rnn.py\u001b[0m in \u001b[0;36m<lambda>\u001b[1;34m()\u001b[0m\n\u001b[0;32m    706\u001b[0m \u001b[1;33m\u001b[0m\u001b[0m\n\u001b[0;32m    707\u001b[0m     \u001b[0minput_t\u001b[0m \u001b[1;33m=\u001b[0m \u001b[0mnest\u001b[0m\u001b[1;33m.\u001b[0m\u001b[0mpack_sequence_as\u001b[0m\u001b[1;33m(\u001b[0m\u001b[0mstructure\u001b[0m\u001b[1;33m=\u001b[0m\u001b[0minputs\u001b[0m\u001b[1;33m,\u001b[0m \u001b[0mflat_sequence\u001b[0m\u001b[1;33m=\u001b[0m\u001b[0minput_t\u001b[0m\u001b[1;33m)\u001b[0m\u001b[1;33m\u001b[0m\u001b[1;33m\u001b[0m\u001b[0m\n\u001b[1;32m--> 708\u001b[1;33m     \u001b[0mcall_cell\u001b[0m \u001b[1;33m=\u001b[0m \u001b[1;32mlambda\u001b[0m\u001b[1;33m:\u001b[0m \u001b[0mcell\u001b[0m\u001b[1;33m(\u001b[0m\u001b[0minput_t\u001b[0m\u001b[1;33m,\u001b[0m \u001b[0mstate\u001b[0m\u001b[1;33m)\u001b[0m\u001b[1;33m\u001b[0m\u001b[1;33m\u001b[0m\u001b[0m\n\u001b[0m\u001b[0;32m    709\u001b[0m \u001b[1;33m\u001b[0m\u001b[0m\n\u001b[0;32m    710\u001b[0m     \u001b[1;32mif\u001b[0m \u001b[0msequence_length\u001b[0m \u001b[1;32mis\u001b[0m \u001b[1;32mnot\u001b[0m \u001b[1;32mNone\u001b[0m\u001b[1;33m:\u001b[0m\u001b[1;33m\u001b[0m\u001b[1;33m\u001b[0m\u001b[0m\n",
      "\u001b[1;32mD:\\Softwares\\Python\\Anaconda\\lib\\site-packages\\tensorflow\\python\\ops\\rnn_cell_impl.py\u001b[0m in \u001b[0;36m__call__\u001b[1;34m(self, inputs, state, scope)\u001b[0m\n\u001b[0;32m    178\u001b[0m       with vs.variable_scope(vs.get_variable_scope(),\n\u001b[0;32m    179\u001b[0m                              custom_getter=self._rnn_get_variable):\n\u001b[1;32m--> 180\u001b[1;33m         \u001b[1;32mreturn\u001b[0m \u001b[0msuper\u001b[0m\u001b[1;33m(\u001b[0m\u001b[0mRNNCell\u001b[0m\u001b[1;33m,\u001b[0m \u001b[0mself\u001b[0m\u001b[1;33m)\u001b[0m\u001b[1;33m.\u001b[0m\u001b[0m__call__\u001b[0m\u001b[1;33m(\u001b[0m\u001b[0minputs\u001b[0m\u001b[1;33m,\u001b[0m \u001b[0mstate\u001b[0m\u001b[1;33m)\u001b[0m\u001b[1;33m\u001b[0m\u001b[1;33m\u001b[0m\u001b[0m\n\u001b[0m\u001b[0;32m    181\u001b[0m \u001b[1;33m\u001b[0m\u001b[0m\n\u001b[0;32m    182\u001b[0m   \u001b[1;32mdef\u001b[0m \u001b[0m_rnn_get_variable\u001b[0m\u001b[1;33m(\u001b[0m\u001b[0mself\u001b[0m\u001b[1;33m,\u001b[0m \u001b[0mgetter\u001b[0m\u001b[1;33m,\u001b[0m \u001b[1;33m*\u001b[0m\u001b[0margs\u001b[0m\u001b[1;33m,\u001b[0m \u001b[1;33m**\u001b[0m\u001b[0mkwargs\u001b[0m\u001b[1;33m)\u001b[0m\u001b[1;33m:\u001b[0m\u001b[1;33m\u001b[0m\u001b[1;33m\u001b[0m\u001b[0m\n",
      "\u001b[1;32mD:\\Softwares\\Python\\Anaconda\\lib\\site-packages\\tensorflow\\python\\layers\\base.py\u001b[0m in \u001b[0;36m__call__\u001b[1;34m(self, inputs, *args, **kwargs)\u001b[0m\n\u001b[0;32m    439\u001b[0m         \u001b[1;31m# Check input assumptions set after layer building, e.g. input shape.\u001b[0m\u001b[1;33m\u001b[0m\u001b[1;33m\u001b[0m\u001b[1;33m\u001b[0m\u001b[0m\n\u001b[0;32m    440\u001b[0m         \u001b[0mself\u001b[0m\u001b[1;33m.\u001b[0m\u001b[0m_assert_input_compatibility\u001b[0m\u001b[1;33m(\u001b[0m\u001b[0minputs\u001b[0m\u001b[1;33m)\u001b[0m\u001b[1;33m\u001b[0m\u001b[1;33m\u001b[0m\u001b[0m\n\u001b[1;32m--> 441\u001b[1;33m         \u001b[0moutputs\u001b[0m \u001b[1;33m=\u001b[0m \u001b[0mself\u001b[0m\u001b[1;33m.\u001b[0m\u001b[0mcall\u001b[0m\u001b[1;33m(\u001b[0m\u001b[0minputs\u001b[0m\u001b[1;33m,\u001b[0m \u001b[1;33m*\u001b[0m\u001b[0margs\u001b[0m\u001b[1;33m,\u001b[0m \u001b[1;33m**\u001b[0m\u001b[0mkwargs\u001b[0m\u001b[1;33m)\u001b[0m\u001b[1;33m\u001b[0m\u001b[1;33m\u001b[0m\u001b[0m\n\u001b[0m\u001b[0;32m    442\u001b[0m \u001b[1;33m\u001b[0m\u001b[0m\n\u001b[0;32m    443\u001b[0m         \u001b[1;31m# Apply activity regularization.\u001b[0m\u001b[1;33m\u001b[0m\u001b[1;33m\u001b[0m\u001b[1;33m\u001b[0m\u001b[0m\n",
      "\u001b[1;32mD:\\Softwares\\Python\\Anaconda\\lib\\site-packages\\tensorflow\\python\\ops\\rnn_cell_impl.py\u001b[0m in \u001b[0;36mcall\u001b[1;34m(self, inputs, state)\u001b[0m\n\u001b[0;32m    381\u001b[0m       \u001b[0mc\u001b[0m\u001b[1;33m,\u001b[0m \u001b[0mh\u001b[0m \u001b[1;33m=\u001b[0m \u001b[0marray_ops\u001b[0m\u001b[1;33m.\u001b[0m\u001b[0msplit\u001b[0m\u001b[1;33m(\u001b[0m\u001b[0mvalue\u001b[0m\u001b[1;33m=\u001b[0m\u001b[0mstate\u001b[0m\u001b[1;33m,\u001b[0m \u001b[0mnum_or_size_splits\u001b[0m\u001b[1;33m=\u001b[0m\u001b[1;36m2\u001b[0m\u001b[1;33m,\u001b[0m \u001b[0maxis\u001b[0m\u001b[1;33m=\u001b[0m\u001b[1;36m1\u001b[0m\u001b[1;33m)\u001b[0m\u001b[1;33m\u001b[0m\u001b[1;33m\u001b[0m\u001b[0m\n\u001b[0;32m    382\u001b[0m \u001b[1;33m\u001b[0m\u001b[0m\n\u001b[1;32m--> 383\u001b[1;33m     \u001b[0mconcat\u001b[0m \u001b[1;33m=\u001b[0m \u001b[0m_linear\u001b[0m\u001b[1;33m(\u001b[0m\u001b[1;33m[\u001b[0m\u001b[0minputs\u001b[0m\u001b[1;33m,\u001b[0m \u001b[0mh\u001b[0m\u001b[1;33m]\u001b[0m\u001b[1;33m,\u001b[0m \u001b[1;36m4\u001b[0m \u001b[1;33m*\u001b[0m \u001b[0mself\u001b[0m\u001b[1;33m.\u001b[0m\u001b[0m_num_units\u001b[0m\u001b[1;33m,\u001b[0m \u001b[1;32mTrue\u001b[0m\u001b[1;33m)\u001b[0m\u001b[1;33m\u001b[0m\u001b[1;33m\u001b[0m\u001b[0m\n\u001b[0m\u001b[0;32m    384\u001b[0m \u001b[1;33m\u001b[0m\u001b[0m\n\u001b[0;32m    385\u001b[0m     \u001b[1;31m# i = input_gate, j = new_input, f = forget_gate, o = output_gate\u001b[0m\u001b[1;33m\u001b[0m\u001b[1;33m\u001b[0m\u001b[1;33m\u001b[0m\u001b[0m\n",
      "\u001b[1;32mD:\\Softwares\\Python\\Anaconda\\lib\\site-packages\\tensorflow\\python\\ops\\rnn_cell_impl.py\u001b[0m in \u001b[0;36m_linear\u001b[1;34m(args, output_size, bias, bias_initializer, kernel_initializer)\u001b[0m\n\u001b[0;32m   1015\u001b[0m         \u001b[0m_WEIGHTS_VARIABLE_NAME\u001b[0m\u001b[1;33m,\u001b[0m \u001b[1;33m[\u001b[0m\u001b[0mtotal_arg_size\u001b[0m\u001b[1;33m,\u001b[0m \u001b[0moutput_size\u001b[0m\u001b[1;33m]\u001b[0m\u001b[1;33m,\u001b[0m\u001b[1;33m\u001b[0m\u001b[1;33m\u001b[0m\u001b[0m\n\u001b[0;32m   1016\u001b[0m         \u001b[0mdtype\u001b[0m\u001b[1;33m=\u001b[0m\u001b[0mdtype\u001b[0m\u001b[1;33m,\u001b[0m\u001b[1;33m\u001b[0m\u001b[1;33m\u001b[0m\u001b[0m\n\u001b[1;32m-> 1017\u001b[1;33m         initializer=kernel_initializer)\n\u001b[0m\u001b[0;32m   1018\u001b[0m     \u001b[1;32mif\u001b[0m \u001b[0mlen\u001b[0m\u001b[1;33m(\u001b[0m\u001b[0margs\u001b[0m\u001b[1;33m)\u001b[0m \u001b[1;33m==\u001b[0m \u001b[1;36m1\u001b[0m\u001b[1;33m:\u001b[0m\u001b[1;33m\u001b[0m\u001b[1;33m\u001b[0m\u001b[0m\n\u001b[0;32m   1019\u001b[0m       \u001b[0mres\u001b[0m \u001b[1;33m=\u001b[0m \u001b[0mmath_ops\u001b[0m\u001b[1;33m.\u001b[0m\u001b[0mmatmul\u001b[0m\u001b[1;33m(\u001b[0m\u001b[0margs\u001b[0m\u001b[1;33m[\u001b[0m\u001b[1;36m0\u001b[0m\u001b[1;33m]\u001b[0m\u001b[1;33m,\u001b[0m \u001b[0mweights\u001b[0m\u001b[1;33m)\u001b[0m\u001b[1;33m\u001b[0m\u001b[1;33m\u001b[0m\u001b[0m\n",
      "\u001b[1;32mD:\\Softwares\\Python\\Anaconda\\lib\\site-packages\\tensorflow\\python\\ops\\variable_scope.py\u001b[0m in \u001b[0;36mget_variable\u001b[1;34m(name, shape, dtype, initializer, regularizer, trainable, collections, caching_device, partitioner, validate_shape, use_resource, custom_getter)\u001b[0m\n\u001b[0;32m   1063\u001b[0m       \u001b[0mcollections\u001b[0m\u001b[1;33m=\u001b[0m\u001b[0mcollections\u001b[0m\u001b[1;33m,\u001b[0m \u001b[0mcaching_device\u001b[0m\u001b[1;33m=\u001b[0m\u001b[0mcaching_device\u001b[0m\u001b[1;33m,\u001b[0m\u001b[1;33m\u001b[0m\u001b[1;33m\u001b[0m\u001b[0m\n\u001b[0;32m   1064\u001b[0m       \u001b[0mpartitioner\u001b[0m\u001b[1;33m=\u001b[0m\u001b[0mpartitioner\u001b[0m\u001b[1;33m,\u001b[0m \u001b[0mvalidate_shape\u001b[0m\u001b[1;33m=\u001b[0m\u001b[0mvalidate_shape\u001b[0m\u001b[1;33m,\u001b[0m\u001b[1;33m\u001b[0m\u001b[1;33m\u001b[0m\u001b[0m\n\u001b[1;32m-> 1065\u001b[1;33m       use_resource=use_resource, custom_getter=custom_getter)\n\u001b[0m\u001b[0;32m   1066\u001b[0m get_variable_or_local_docstring = (\n\u001b[0;32m   1067\u001b[0m     \"\"\"%s\n",
      "\u001b[1;32mD:\\Softwares\\Python\\Anaconda\\lib\\site-packages\\tensorflow\\python\\ops\\variable_scope.py\u001b[0m in \u001b[0;36mget_variable\u001b[1;34m(self, var_store, name, shape, dtype, initializer, regularizer, reuse, trainable, collections, caching_device, partitioner, validate_shape, use_resource, custom_getter)\u001b[0m\n\u001b[0;32m    960\u001b[0m           \u001b[0mcollections\u001b[0m\u001b[1;33m=\u001b[0m\u001b[0mcollections\u001b[0m\u001b[1;33m,\u001b[0m \u001b[0mcaching_device\u001b[0m\u001b[1;33m=\u001b[0m\u001b[0mcaching_device\u001b[0m\u001b[1;33m,\u001b[0m\u001b[1;33m\u001b[0m\u001b[1;33m\u001b[0m\u001b[0m\n\u001b[0;32m    961\u001b[0m           \u001b[0mpartitioner\u001b[0m\u001b[1;33m=\u001b[0m\u001b[0mpartitioner\u001b[0m\u001b[1;33m,\u001b[0m \u001b[0mvalidate_shape\u001b[0m\u001b[1;33m=\u001b[0m\u001b[0mvalidate_shape\u001b[0m\u001b[1;33m,\u001b[0m\u001b[1;33m\u001b[0m\u001b[1;33m\u001b[0m\u001b[0m\n\u001b[1;32m--> 962\u001b[1;33m           use_resource=use_resource, custom_getter=custom_getter)\n\u001b[0m\u001b[0;32m    963\u001b[0m \u001b[1;33m\u001b[0m\u001b[0m\n\u001b[0;32m    964\u001b[0m   def _get_partitioned_variable(self,\n",
      "\u001b[1;32mD:\\Softwares\\Python\\Anaconda\\lib\\site-packages\\tensorflow\\python\\ops\\variable_scope.py\u001b[0m in \u001b[0;36mget_variable\u001b[1;34m(self, name, shape, dtype, initializer, regularizer, reuse, trainable, collections, caching_device, partitioner, validate_shape, use_resource, custom_getter)\u001b[0m\n\u001b[0;32m    358\u001b[0m           \u001b[0mreuse\u001b[0m\u001b[1;33m=\u001b[0m\u001b[0mreuse\u001b[0m\u001b[1;33m,\u001b[0m \u001b[0mtrainable\u001b[0m\u001b[1;33m=\u001b[0m\u001b[0mtrainable\u001b[0m\u001b[1;33m,\u001b[0m \u001b[0mcollections\u001b[0m\u001b[1;33m=\u001b[0m\u001b[0mcollections\u001b[0m\u001b[1;33m,\u001b[0m\u001b[1;33m\u001b[0m\u001b[1;33m\u001b[0m\u001b[0m\n\u001b[0;32m    359\u001b[0m           \u001b[0mcaching_device\u001b[0m\u001b[1;33m=\u001b[0m\u001b[0mcaching_device\u001b[0m\u001b[1;33m,\u001b[0m \u001b[0mpartitioner\u001b[0m\u001b[1;33m=\u001b[0m\u001b[0mpartitioner\u001b[0m\u001b[1;33m,\u001b[0m\u001b[1;33m\u001b[0m\u001b[1;33m\u001b[0m\u001b[0m\n\u001b[1;32m--> 360\u001b[1;33m           validate_shape=validate_shape, use_resource=use_resource)\n\u001b[0m\u001b[0;32m    361\u001b[0m     \u001b[1;32melse\u001b[0m\u001b[1;33m:\u001b[0m\u001b[1;33m\u001b[0m\u001b[1;33m\u001b[0m\u001b[0m\n\u001b[0;32m    362\u001b[0m       return _true_getter(\n",
      "\u001b[1;32mD:\\Softwares\\Python\\Anaconda\\lib\\site-packages\\tensorflow\\python\\ops\\rnn_cell_impl.py\u001b[0m in \u001b[0;36m_rnn_get_variable\u001b[1;34m(self, getter, *args, **kwargs)\u001b[0m\n\u001b[0;32m    181\u001b[0m \u001b[1;33m\u001b[0m\u001b[0m\n\u001b[0;32m    182\u001b[0m   \u001b[1;32mdef\u001b[0m \u001b[0m_rnn_get_variable\u001b[0m\u001b[1;33m(\u001b[0m\u001b[0mself\u001b[0m\u001b[1;33m,\u001b[0m \u001b[0mgetter\u001b[0m\u001b[1;33m,\u001b[0m \u001b[1;33m*\u001b[0m\u001b[0margs\u001b[0m\u001b[1;33m,\u001b[0m \u001b[1;33m**\u001b[0m\u001b[0mkwargs\u001b[0m\u001b[1;33m)\u001b[0m\u001b[1;33m:\u001b[0m\u001b[1;33m\u001b[0m\u001b[1;33m\u001b[0m\u001b[0m\n\u001b[1;32m--> 183\u001b[1;33m     \u001b[0mvariable\u001b[0m \u001b[1;33m=\u001b[0m \u001b[0mgetter\u001b[0m\u001b[1;33m(\u001b[0m\u001b[1;33m*\u001b[0m\u001b[0margs\u001b[0m\u001b[1;33m,\u001b[0m \u001b[1;33m**\u001b[0m\u001b[0mkwargs\u001b[0m\u001b[1;33m)\u001b[0m\u001b[1;33m\u001b[0m\u001b[1;33m\u001b[0m\u001b[0m\n\u001b[0m\u001b[0;32m    184\u001b[0m     trainable = (variable in tf_variables.trainable_variables() or\n\u001b[0;32m    185\u001b[0m                  (isinstance(variable, tf_variables.PartitionedVariable) and\n",
      "\u001b[1;32mD:\\Softwares\\Python\\Anaconda\\lib\\site-packages\\tensorflow\\python\\ops\\variable_scope.py\u001b[0m in \u001b[0;36m_true_getter\u001b[1;34m(name, shape, dtype, initializer, regularizer, reuse, trainable, collections, caching_device, partitioner, validate_shape, use_resource)\u001b[0m\n\u001b[0;32m    350\u001b[0m           \u001b[0mtrainable\u001b[0m\u001b[1;33m=\u001b[0m\u001b[0mtrainable\u001b[0m\u001b[1;33m,\u001b[0m \u001b[0mcollections\u001b[0m\u001b[1;33m=\u001b[0m\u001b[0mcollections\u001b[0m\u001b[1;33m,\u001b[0m\u001b[1;33m\u001b[0m\u001b[1;33m\u001b[0m\u001b[0m\n\u001b[0;32m    351\u001b[0m           \u001b[0mcaching_device\u001b[0m\u001b[1;33m=\u001b[0m\u001b[0mcaching_device\u001b[0m\u001b[1;33m,\u001b[0m \u001b[0mvalidate_shape\u001b[0m\u001b[1;33m=\u001b[0m\u001b[0mvalidate_shape\u001b[0m\u001b[1;33m,\u001b[0m\u001b[1;33m\u001b[0m\u001b[1;33m\u001b[0m\u001b[0m\n\u001b[1;32m--> 352\u001b[1;33m           use_resource=use_resource)\n\u001b[0m\u001b[0;32m    353\u001b[0m \u001b[1;33m\u001b[0m\u001b[0m\n\u001b[0;32m    354\u001b[0m     \u001b[1;32mif\u001b[0m \u001b[0mcustom_getter\u001b[0m \u001b[1;32mis\u001b[0m \u001b[1;32mnot\u001b[0m \u001b[1;32mNone\u001b[0m\u001b[1;33m:\u001b[0m\u001b[1;33m\u001b[0m\u001b[1;33m\u001b[0m\u001b[0m\n",
      "\u001b[1;32mD:\\Softwares\\Python\\Anaconda\\lib\\site-packages\\tensorflow\\python\\ops\\variable_scope.py\u001b[0m in \u001b[0;36m_get_single_variable\u001b[1;34m(self, name, shape, dtype, initializer, regularizer, partition_info, reuse, trainable, collections, caching_device, validate_shape, use_resource)\u001b[0m\n\u001b[0;32m    662\u001b[0m                          \u001b[1;34m\" Did you mean to set reuse=True in VarScope? \"\u001b[0m\u001b[1;33m\u001b[0m\u001b[1;33m\u001b[0m\u001b[0m\n\u001b[0;32m    663\u001b[0m                          \"Originally defined at:\\n\\n%s\" % (\n\u001b[1;32m--> 664\u001b[1;33m                              name, \"\".join(traceback.format_list(tb))))\n\u001b[0m\u001b[0;32m    665\u001b[0m       \u001b[0mfound_var\u001b[0m \u001b[1;33m=\u001b[0m \u001b[0mself\u001b[0m\u001b[1;33m.\u001b[0m\u001b[0m_vars\u001b[0m\u001b[1;33m[\u001b[0m\u001b[0mname\u001b[0m\u001b[1;33m]\u001b[0m\u001b[1;33m\u001b[0m\u001b[1;33m\u001b[0m\u001b[0m\n\u001b[0;32m    666\u001b[0m       \u001b[1;32mif\u001b[0m \u001b[1;32mnot\u001b[0m \u001b[0mshape\u001b[0m\u001b[1;33m.\u001b[0m\u001b[0mis_compatible_with\u001b[0m\u001b[1;33m(\u001b[0m\u001b[0mfound_var\u001b[0m\u001b[1;33m.\u001b[0m\u001b[0mget_shape\u001b[0m\u001b[1;33m(\u001b[0m\u001b[1;33m)\u001b[0m\u001b[1;33m)\u001b[0m\u001b[1;33m:\u001b[0m\u001b[1;33m\u001b[0m\u001b[1;33m\u001b[0m\u001b[0m\n",
      "\u001b[1;31mValueError\u001b[0m: Variable rnn/basic_lstm_cell/kernel already exists, disallowed. Did you mean to set reuse=True in VarScope? Originally defined at:\n\n  File \"D:\\Softwares\\Python\\Anaconda\\lib\\site-packages\\tensorflow\\python\\framework\\ops.py\", line 1269, in __init__\n    self._traceback = _extract_stack()\n  File \"D:\\Softwares\\Python\\Anaconda\\lib\\site-packages\\tensorflow\\python\\framework\\ops.py\", line 2506, in create_op\n    original_op=self._default_original_op, op_def=op_def)\n  File \"D:\\Softwares\\Python\\Anaconda\\lib\\site-packages\\tensorflow\\python\\framework\\op_def_library.py\", line 767, in apply_op\n    op_def=op_def)\n"
     ]
    }
   ],
   "source": [
    "test_predictions = RNN(test_X[:1000],weights,biases)"
   ]
  }
 ],
 "metadata": {
  "kernelspec": {
   "display_name": "Python 3",
   "language": "python",
   "name": "python3"
  },
  "language_info": {
   "codemirror_mode": {
    "name": "ipython",
    "version": 3
   },
   "file_extension": ".py",
   "mimetype": "text/x-python",
   "name": "python",
   "nbconvert_exporter": "python",
   "pygments_lexer": "ipython3",
   "version": "3.6.8"
  }
 },
 "nbformat": 4,
 "nbformat_minor": 2
}
